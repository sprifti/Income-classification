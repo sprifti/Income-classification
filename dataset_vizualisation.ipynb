{
 "cells": [
  {
   "cell_type": "markdown",
   "metadata": {},
   "source": [
    "# Import"
   ]
  },
  {
   "cell_type": "code",
   "execution_count": 2,
   "metadata": {
    "ExecuteTime": {
     "end_time": "2020-05-28T20:26:23.585791Z",
     "start_time": "2020-05-28T20:26:22.946056Z"
    }
   },
   "outputs": [
    {
     "data": {
      "text/html": [
       "<style>.container { width:100% !important; }</style>"
      ],
      "text/plain": [
       "<IPython.core.display.HTML object>"
      ]
     },
     "metadata": {},
     "output_type": "display_data"
    }
   ],
   "source": [
    "import numpy as np # linear algebra\n",
    "import pandas as pd # data processing, CSV file I/O (e.g. pd.read_csv)\n",
    "import matplotlib.pyplot as plt\n",
    "from sklearn import preprocessing\n",
    "from sklearn.metrics import classification_report, confusion_matrix\n",
    "from sklearn import metrics\n",
    "from datetime import datetime as dt, timedelta\n",
    "from pandas_profiling import ProfileReport\n",
    "plt.figure(num=None, figsize=(10, 8), dpi=80, facecolor='w', edgecolor='k')\n",
    "import seaborn as sns; sns.set()  # for plot styling\n",
    "%matplotlib inline\n",
    "from IPython.core.display import display, HTML\n",
    "display(HTML(\"<style>.container { width:100% !important; }</style>\"))"
   ]
  },
  {
   "cell_type": "markdown",
   "metadata": {
    "heading_collapsed": true
   },
   "source": [
    "# Dataset Overview"
   ]
  },
  {
   "cell_type": "code",
   "execution_count": 8,
   "metadata": {
    "ExecuteTime": {
     "end_time": "2020-05-28T20:31:41.271496Z",
     "start_time": "2020-05-28T20:31:41.264264Z"
    },
    "hidden": true
   },
   "outputs": [],
   "source": [
    "def overview_dataset(dataset):\n",
    "    \n",
    "    df_overview_after = pd.DataFrame(index=dataset.columns)\n",
    "    df_overview_after['NaValues'] = dataset.isna().any()\n",
    "    df_overview_after['dtypes'] = dataset.dtypes\n",
    "    df_overview_after['UniqueValues'] = dataset.nunique()\n",
    "    df_overview_after['RecordNumber'] = dataset.count()\n",
    "    df_overview_after['Median'] = dataset.median()\n",
    "    df_overview_after['Mean'] = dataset.mean()\n",
    "    df_overview_after['Standard Deviation'] = dataset.std()\n",
    "    df_overview_after['25%'] = dataset.quantile(0.25, numeric_only=True)\n",
    "    df_overview_after['75%'] = dataset.quantile(0.75, numeric_only=True)\n",
    "    df_overview_after['Min'] = dataset.min(axis=0)\n",
    "    df_overview_after['Max'] = dataset.max(axis=0)\n",
    "    \n",
    "\n",
    "    return df_overview_after"
   ]
  },
  {
   "cell_type": "code",
   "execution_count": 10,
   "metadata": {
    "ExecuteTime": {
     "end_time": "2020-05-28T20:40:53.908280Z",
     "start_time": "2020-05-28T20:40:46.538638Z"
    },
    "hidden": true
   },
   "outputs": [
    {
     "data": {
      "text/html": [
       "<div>\n",
       "<style scoped>\n",
       "    .dataframe tbody tr th:only-of-type {\n",
       "        vertical-align: middle;\n",
       "    }\n",
       "\n",
       "    .dataframe tbody tr th {\n",
       "        vertical-align: top;\n",
       "    }\n",
       "\n",
       "    .dataframe thead th {\n",
       "        text-align: right;\n",
       "    }\n",
       "</style>\n",
       "<table border=\"1\" class=\"dataframe\">\n",
       "  <thead>\n",
       "    <tr style=\"text-align: right;\">\n",
       "      <th></th>\n",
       "      <th>NaValues</th>\n",
       "      <th>dtypes</th>\n",
       "      <th>UniqueValues</th>\n",
       "      <th>RecordNumber</th>\n",
       "      <th>Median</th>\n",
       "      <th>Mean</th>\n",
       "      <th>Standard Deviation</th>\n",
       "      <th>25%</th>\n",
       "      <th>75%</th>\n",
       "      <th>Min</th>\n",
       "      <th>Max</th>\n",
       "    </tr>\n",
       "  </thead>\n",
       "  <tbody>\n",
       "    <tr>\n",
       "      <th>age</th>\n",
       "      <td>False</td>\n",
       "      <td>int64</td>\n",
       "      <td>73</td>\n",
       "      <td>32561</td>\n",
       "      <td>37.0</td>\n",
       "      <td>38.581647</td>\n",
       "      <td>13.640433</td>\n",
       "      <td>28.0</td>\n",
       "      <td>48.0</td>\n",
       "      <td>17</td>\n",
       "      <td>90</td>\n",
       "    </tr>\n",
       "    <tr>\n",
       "      <th>workclass</th>\n",
       "      <td>False</td>\n",
       "      <td>object</td>\n",
       "      <td>9</td>\n",
       "      <td>32561</td>\n",
       "      <td>NaN</td>\n",
       "      <td>NaN</td>\n",
       "      <td>NaN</td>\n",
       "      <td>NaN</td>\n",
       "      <td>NaN</td>\n",
       "      <td>?</td>\n",
       "      <td>Without-pay</td>\n",
       "    </tr>\n",
       "    <tr>\n",
       "      <th>fnlwgt</th>\n",
       "      <td>False</td>\n",
       "      <td>int64</td>\n",
       "      <td>21648</td>\n",
       "      <td>32561</td>\n",
       "      <td>178356.0</td>\n",
       "      <td>189778.366512</td>\n",
       "      <td>105549.977697</td>\n",
       "      <td>117827.0</td>\n",
       "      <td>237051.0</td>\n",
       "      <td>12285</td>\n",
       "      <td>1484705</td>\n",
       "    </tr>\n",
       "    <tr>\n",
       "      <th>education</th>\n",
       "      <td>False</td>\n",
       "      <td>object</td>\n",
       "      <td>16</td>\n",
       "      <td>32561</td>\n",
       "      <td>NaN</td>\n",
       "      <td>NaN</td>\n",
       "      <td>NaN</td>\n",
       "      <td>NaN</td>\n",
       "      <td>NaN</td>\n",
       "      <td>10th</td>\n",
       "      <td>Some-college</td>\n",
       "    </tr>\n",
       "    <tr>\n",
       "      <th>education-num</th>\n",
       "      <td>False</td>\n",
       "      <td>int64</td>\n",
       "      <td>16</td>\n",
       "      <td>32561</td>\n",
       "      <td>10.0</td>\n",
       "      <td>10.080679</td>\n",
       "      <td>2.572720</td>\n",
       "      <td>9.0</td>\n",
       "      <td>12.0</td>\n",
       "      <td>1</td>\n",
       "      <td>16</td>\n",
       "    </tr>\n",
       "    <tr>\n",
       "      <th>marital-status</th>\n",
       "      <td>False</td>\n",
       "      <td>object</td>\n",
       "      <td>7</td>\n",
       "      <td>32561</td>\n",
       "      <td>NaN</td>\n",
       "      <td>NaN</td>\n",
       "      <td>NaN</td>\n",
       "      <td>NaN</td>\n",
       "      <td>NaN</td>\n",
       "      <td>Divorced</td>\n",
       "      <td>Widowed</td>\n",
       "    </tr>\n",
       "    <tr>\n",
       "      <th>occupation</th>\n",
       "      <td>False</td>\n",
       "      <td>object</td>\n",
       "      <td>15</td>\n",
       "      <td>32561</td>\n",
       "      <td>NaN</td>\n",
       "      <td>NaN</td>\n",
       "      <td>NaN</td>\n",
       "      <td>NaN</td>\n",
       "      <td>NaN</td>\n",
       "      <td>?</td>\n",
       "      <td>Transport-moving</td>\n",
       "    </tr>\n",
       "    <tr>\n",
       "      <th>relationship</th>\n",
       "      <td>False</td>\n",
       "      <td>object</td>\n",
       "      <td>6</td>\n",
       "      <td>32561</td>\n",
       "      <td>NaN</td>\n",
       "      <td>NaN</td>\n",
       "      <td>NaN</td>\n",
       "      <td>NaN</td>\n",
       "      <td>NaN</td>\n",
       "      <td>Husband</td>\n",
       "      <td>Wife</td>\n",
       "    </tr>\n",
       "    <tr>\n",
       "      <th>race</th>\n",
       "      <td>False</td>\n",
       "      <td>object</td>\n",
       "      <td>5</td>\n",
       "      <td>32561</td>\n",
       "      <td>NaN</td>\n",
       "      <td>NaN</td>\n",
       "      <td>NaN</td>\n",
       "      <td>NaN</td>\n",
       "      <td>NaN</td>\n",
       "      <td>Amer-Indian-Eskimo</td>\n",
       "      <td>White</td>\n",
       "    </tr>\n",
       "    <tr>\n",
       "      <th>sex</th>\n",
       "      <td>False</td>\n",
       "      <td>object</td>\n",
       "      <td>2</td>\n",
       "      <td>32561</td>\n",
       "      <td>NaN</td>\n",
       "      <td>NaN</td>\n",
       "      <td>NaN</td>\n",
       "      <td>NaN</td>\n",
       "      <td>NaN</td>\n",
       "      <td>Female</td>\n",
       "      <td>Male</td>\n",
       "    </tr>\n",
       "    <tr>\n",
       "      <th>capital-gain</th>\n",
       "      <td>False</td>\n",
       "      <td>int64</td>\n",
       "      <td>119</td>\n",
       "      <td>32561</td>\n",
       "      <td>0.0</td>\n",
       "      <td>1077.648844</td>\n",
       "      <td>7385.292085</td>\n",
       "      <td>0.0</td>\n",
       "      <td>0.0</td>\n",
       "      <td>0</td>\n",
       "      <td>99999</td>\n",
       "    </tr>\n",
       "    <tr>\n",
       "      <th>capital-loss</th>\n",
       "      <td>False</td>\n",
       "      <td>int64</td>\n",
       "      <td>92</td>\n",
       "      <td>32561</td>\n",
       "      <td>0.0</td>\n",
       "      <td>87.303830</td>\n",
       "      <td>402.960219</td>\n",
       "      <td>0.0</td>\n",
       "      <td>0.0</td>\n",
       "      <td>0</td>\n",
       "      <td>4356</td>\n",
       "    </tr>\n",
       "    <tr>\n",
       "      <th>hours-per-week</th>\n",
       "      <td>False</td>\n",
       "      <td>int64</td>\n",
       "      <td>94</td>\n",
       "      <td>32561</td>\n",
       "      <td>40.0</td>\n",
       "      <td>40.437456</td>\n",
       "      <td>12.347429</td>\n",
       "      <td>40.0</td>\n",
       "      <td>45.0</td>\n",
       "      <td>1</td>\n",
       "      <td>99</td>\n",
       "    </tr>\n",
       "    <tr>\n",
       "      <th>native-country</th>\n",
       "      <td>False</td>\n",
       "      <td>object</td>\n",
       "      <td>42</td>\n",
       "      <td>32561</td>\n",
       "      <td>NaN</td>\n",
       "      <td>NaN</td>\n",
       "      <td>NaN</td>\n",
       "      <td>NaN</td>\n",
       "      <td>NaN</td>\n",
       "      <td>?</td>\n",
       "      <td>Yugoslavia</td>\n",
       "    </tr>\n",
       "    <tr>\n",
       "      <th>income</th>\n",
       "      <td>False</td>\n",
       "      <td>object</td>\n",
       "      <td>2</td>\n",
       "      <td>32561</td>\n",
       "      <td>NaN</td>\n",
       "      <td>NaN</td>\n",
       "      <td>NaN</td>\n",
       "      <td>NaN</td>\n",
       "      <td>NaN</td>\n",
       "      <td>&lt;=50K</td>\n",
       "      <td>&gt;50K</td>\n",
       "    </tr>\n",
       "  </tbody>\n",
       "</table>\n",
       "</div>"
      ],
      "text/plain": [
       "                NaValues  dtypes  UniqueValues  RecordNumber    Median  \\\n",
       "age                False   int64            73         32561      37.0   \n",
       "workclass          False  object             9         32561       NaN   \n",
       "fnlwgt             False   int64         21648         32561  178356.0   \n",
       "education          False  object            16         32561       NaN   \n",
       "education-num      False   int64            16         32561      10.0   \n",
       "marital-status     False  object             7         32561       NaN   \n",
       "occupation         False  object            15         32561       NaN   \n",
       "relationship       False  object             6         32561       NaN   \n",
       "race               False  object             5         32561       NaN   \n",
       "sex                False  object             2         32561       NaN   \n",
       "capital-gain       False   int64           119         32561       0.0   \n",
       "capital-loss       False   int64            92         32561       0.0   \n",
       "hours-per-week     False   int64            94         32561      40.0   \n",
       "native-country     False  object            42         32561       NaN   \n",
       "income             False  object             2         32561       NaN   \n",
       "\n",
       "                         Mean  Standard Deviation       25%       75%  \\\n",
       "age                 38.581647           13.640433      28.0      48.0   \n",
       "workclass                 NaN                 NaN       NaN       NaN   \n",
       "fnlwgt          189778.366512       105549.977697  117827.0  237051.0   \n",
       "education                 NaN                 NaN       NaN       NaN   \n",
       "education-num       10.080679            2.572720       9.0      12.0   \n",
       "marital-status            NaN                 NaN       NaN       NaN   \n",
       "occupation                NaN                 NaN       NaN       NaN   \n",
       "relationship              NaN                 NaN       NaN       NaN   \n",
       "race                      NaN                 NaN       NaN       NaN   \n",
       "sex                       NaN                 NaN       NaN       NaN   \n",
       "capital-gain      1077.648844         7385.292085       0.0       0.0   \n",
       "capital-loss        87.303830          402.960219       0.0       0.0   \n",
       "hours-per-week      40.437456           12.347429      40.0      45.0   \n",
       "native-country            NaN                 NaN       NaN       NaN   \n",
       "income                    NaN                 NaN       NaN       NaN   \n",
       "\n",
       "                               Min               Max  \n",
       "age                             17                90  \n",
       "workclass                        ?       Without-pay  \n",
       "fnlwgt                       12285           1484705  \n",
       "education                     10th      Some-college  \n",
       "education-num                    1                16  \n",
       "marital-status            Divorced           Widowed  \n",
       "occupation                       ?  Transport-moving  \n",
       "relationship               Husband              Wife  \n",
       "race            Amer-Indian-Eskimo             White  \n",
       "sex                         Female              Male  \n",
       "capital-gain                     0             99999  \n",
       "capital-loss                     0              4356  \n",
       "hours-per-week                   1                99  \n",
       "native-country                   ?        Yugoslavia  \n",
       "income                       <=50K              >50K  "
      ]
     },
     "execution_count": 10,
     "metadata": {},
     "output_type": "execute_result"
    }
   ],
   "source": [
    "#Read the file and create dataset\n",
    "filepath = 'income_evaluation.csv'\n",
    "dataset = pd.read_csv(filepath, encoding='ISO_8859-1')\n",
    "\n",
    "#trim whitespace from al columns\n",
    "df_obj = dataset.select_dtypes(['object'])\n",
    "dataset[df_obj.columns] = df_obj.apply(lambda x: x.str.strip())\n",
    "pre_dataset = overview_dataset(dataset)\n",
    "pre_dataset"
   ]
  },
  {
   "cell_type": "markdown",
   "metadata": {
    "ExecuteTime": {
     "end_time": "2020-05-28T20:27:43.152085Z",
     "start_time": "2020-05-28T20:27:43.148815Z"
    }
   },
   "source": [
    "# Pandas Profiling"
   ]
  },
  {
   "cell_type": "code",
   "execution_count": 7,
   "metadata": {
    "ExecuteTime": {
     "end_time": "2020-05-28T20:28:57.846507Z",
     "start_time": "2020-05-28T20:28:27.485911Z"
    }
   },
   "outputs": [
    {
     "data": {
      "application/vnd.jupyter.widget-view+json": {
       "model_id": "d645db566cda48169465d209d09954d5",
       "version_major": 2,
       "version_minor": 0
      },
      "text/plain": [
       "HBox(children=(FloatProgress(value=0.0, description='Summarize dataset', max=29.0, style=ProgressStyle(descrip…"
      ]
     },
     "metadata": {},
     "output_type": "display_data"
    },
    {
     "name": "stdout",
     "output_type": "stream",
     "text": [
      "\n"
     ]
    },
    {
     "data": {
      "application/vnd.jupyter.widget-view+json": {
       "model_id": "c684b6427e4b43b394be034980bc7266",
       "version_major": 2,
       "version_minor": 0
      },
      "text/plain": [
       "HBox(children=(FloatProgress(value=0.0, description='Generate report structure', max=1.0, style=ProgressStyle(…"
      ]
     },
     "metadata": {},
     "output_type": "display_data"
    },
    {
     "name": "stdout",
     "output_type": "stream",
     "text": [
      "\n"
     ]
    },
    {
     "data": {
      "application/vnd.jupyter.widget-view+json": {
       "model_id": "",
       "version_major": 2,
       "version_minor": 0
      },
      "text/plain": [
       "HBox(children=(FloatProgress(value=0.0, description='Render widgets', max=1.0, style=ProgressStyle(description…"
      ]
     },
     "metadata": {},
     "output_type": "display_data"
    },
    {
     "data": {
      "application/vnd.jupyter.widget-view+json": {
       "model_id": "9369ef6b015a4d22969f144da811da40",
       "version_major": 2,
       "version_minor": 0
      },
      "text/plain": [
       "VBox(children=(Tab(children=(Tab(children=(GridBox(children=(VBox(children=(GridspecLayout(children=(HTML(valu…"
      ]
     },
     "metadata": {},
     "output_type": "display_data"
    }
   ],
   "source": [
    "profile = ProfileReport(dataset, title=\"Pandas Profiling Report\")\n",
    "profile.to_widgets()"
   ]
  },
  {
   "cell_type": "markdown",
   "metadata": {},
   "source": [
    "# Data Vizualisation"
   ]
  },
  {
   "cell_type": "code",
   "execution_count": 11,
   "metadata": {
    "ExecuteTime": {
     "end_time": "2020-05-28T20:43:41.201493Z",
     "start_time": "2020-05-28T20:43:40.835288Z"
    }
   },
   "outputs": [
    {
     "data": {
      "text/html": [
       "<div>\n",
       "<style scoped>\n",
       "    .dataframe tbody tr th:only-of-type {\n",
       "        vertical-align: middle;\n",
       "    }\n",
       "\n",
       "    .dataframe tbody tr th {\n",
       "        vertical-align: top;\n",
       "    }\n",
       "\n",
       "    .dataframe thead th {\n",
       "        text-align: right;\n",
       "    }\n",
       "</style>\n",
       "<table border=\"1\" class=\"dataframe\">\n",
       "  <thead>\n",
       "    <tr style=\"text-align: right;\">\n",
       "      <th></th>\n",
       "      <th>count</th>\n",
       "      <th>mean</th>\n",
       "      <th>std</th>\n",
       "      <th>min</th>\n",
       "      <th>25%</th>\n",
       "      <th>50%</th>\n",
       "      <th>75%</th>\n",
       "      <th>max</th>\n",
       "    </tr>\n",
       "    <tr>\n",
       "      <th>category</th>\n",
       "      <th></th>\n",
       "      <th></th>\n",
       "      <th></th>\n",
       "      <th></th>\n",
       "      <th></th>\n",
       "      <th></th>\n",
       "      <th></th>\n",
       "      <th></th>\n",
       "    </tr>\n",
       "  </thead>\n",
       "  <tbody>\n",
       "    <tr>\n",
       "      <th>1</th>\n",
       "      <td>2410.0</td>\n",
       "      <td>28.565145</td>\n",
       "      <td>12.239689</td>\n",
       "      <td>2.0</td>\n",
       "      <td>20.0</td>\n",
       "      <td>30.0</td>\n",
       "      <td>40.0</td>\n",
       "      <td>99.0</td>\n",
       "    </tr>\n",
       "    <tr>\n",
       "      <th>2</th>\n",
       "      <td>8162.0</td>\n",
       "      <td>39.570938</td>\n",
       "      <td>11.361519</td>\n",
       "      <td>1.0</td>\n",
       "      <td>38.0</td>\n",
       "      <td>40.0</td>\n",
       "      <td>40.0</td>\n",
       "      <td>99.0</td>\n",
       "    </tr>\n",
       "    <tr>\n",
       "      <th>3</th>\n",
       "      <td>8546.0</td>\n",
       "      <td>43.272525</td>\n",
       "      <td>10.892905</td>\n",
       "      <td>2.0</td>\n",
       "      <td>40.0</td>\n",
       "      <td>40.0</td>\n",
       "      <td>50.0</td>\n",
       "      <td>99.0</td>\n",
       "    </tr>\n",
       "    <tr>\n",
       "      <th>4</th>\n",
       "      <td>6983.0</td>\n",
       "      <td>43.382787</td>\n",
       "      <td>10.856647</td>\n",
       "      <td>1.0</td>\n",
       "      <td>40.0</td>\n",
       "      <td>40.0</td>\n",
       "      <td>49.0</td>\n",
       "      <td>99.0</td>\n",
       "    </tr>\n",
       "    <tr>\n",
       "      <th>5</th>\n",
       "      <td>4128.0</td>\n",
       "      <td>42.363857</td>\n",
       "      <td>11.029110</td>\n",
       "      <td>1.0</td>\n",
       "      <td>40.0</td>\n",
       "      <td>40.0</td>\n",
       "      <td>46.0</td>\n",
       "      <td>99.0</td>\n",
       "    </tr>\n",
       "    <tr>\n",
       "      <th>6</th>\n",
       "      <td>1792.0</td>\n",
       "      <td>35.061942</td>\n",
       "      <td>15.284207</td>\n",
       "      <td>1.0</td>\n",
       "      <td>24.0</td>\n",
       "      <td>40.0</td>\n",
       "      <td>40.0</td>\n",
       "      <td>99.0</td>\n",
       "    </tr>\n",
       "    <tr>\n",
       "      <th>7</th>\n",
       "      <td>441.0</td>\n",
       "      <td>26.031746</td>\n",
       "      <td>16.110524</td>\n",
       "      <td>1.0</td>\n",
       "      <td>13.0</td>\n",
       "      <td>24.0</td>\n",
       "      <td>40.0</td>\n",
       "      <td>99.0</td>\n",
       "    </tr>\n",
       "    <tr>\n",
       "      <th>8</th>\n",
       "      <td>99.0</td>\n",
       "      <td>29.555556</td>\n",
       "      <td>18.301457</td>\n",
       "      <td>1.0</td>\n",
       "      <td>15.0</td>\n",
       "      <td>30.0</td>\n",
       "      <td>40.0</td>\n",
       "      <td>99.0</td>\n",
       "    </tr>\n",
       "  </tbody>\n",
       "</table>\n",
       "</div>"
      ],
      "text/plain": [
       "           count       mean        std  min   25%   50%   75%   max\n",
       "category                                                           \n",
       "1         2410.0  28.565145  12.239689  2.0  20.0  30.0  40.0  99.0\n",
       "2         8162.0  39.570938  11.361519  1.0  38.0  40.0  40.0  99.0\n",
       "3         8546.0  43.272525  10.892905  2.0  40.0  40.0  50.0  99.0\n",
       "4         6983.0  43.382787  10.856647  1.0  40.0  40.0  49.0  99.0\n",
       "5         4128.0  42.363857  11.029110  1.0  40.0  40.0  46.0  99.0\n",
       "6         1792.0  35.061942  15.284207  1.0  24.0  40.0  40.0  99.0\n",
       "7          441.0  26.031746  16.110524  1.0  13.0  24.0  40.0  99.0\n",
       "8           99.0  29.555556  18.301457  1.0  15.0  30.0  40.0  99.0"
      ]
     },
     "execution_count": 11,
     "metadata": {},
     "output_type": "execute_result"
    },
    {
     "data": {
      "image/png": "[encoded data removed]",
      "text/plain": [
       "<Figure size 864x360 with 1 Axes>"
      ]
     },
     "metadata": {
      "needs_background": "light"
     },
     "output_type": "display_data"
    }
   ],
   "source": [
    "#One-hot encoding sex column\n",
    "dataframe = dataset.copy()\n",
    "\n",
    "one_hot = pd.get_dummies(dataframe['sex'])\n",
    "dataframe = pd.concat([dataframe, one_hot], axis=1)\n",
    "\n",
    "bins = np.arange(1, 10) * 10\n",
    "dataframe['category'] = np.digitize(dataframe.age, bins, right=True)\n",
    "\n",
    "counts = dataframe.groupby(['category', 'sex']).age.count().unstack()\n",
    "# plt.figure(figsize=(12,5))\n",
    "counts.plot(kind='bar', stacked=True,figsize=(12, 5))\n",
    "dataframe.groupby('category')['hours-per-week'].describe()\n"
   ]
  },
  {
   "cell_type": "code",
   "execution_count": 18,
   "metadata": {
    "ExecuteTime": {
     "end_time": "2020-05-28T20:53:14.399377Z",
     "start_time": "2020-05-28T20:53:13.638899Z"
    }
   },
   "outputs": [
    {
     "data": {
      "image/png": "[encoded data removed]",
      "text/plain": [
       "<Figure size 864x360 with 1 Axes>"
      ]
     },
     "metadata": {
      "needs_background": "light"
     },
     "output_type": "display_data"
    },
    {
     "data": {
      "text/plain": [
       "Text(0.5, 1.0, 'Income distributed for different ages')"
      ]
     },
     "execution_count": 18,
     "metadata": {},
     "output_type": "execute_result"
    },
    {
     "data": {
      "image/png": "[encoded data removed]",
      "text/plain": [
       "<Figure size 864x360 with 1 Axes>"
      ]
     },
     "metadata": {
      "needs_background": "light"
     },
     "output_type": "display_data"
    }
   ],
   "source": [
    "#Age Distribution\n",
    "age_dt = dataset\n",
    "age_dt['count'] = dataset.groupby(['age'], as_index=True)['age'].transform('count')\n",
    "\n",
    "\n",
    "plt.figure(figsize=(12,5))\n",
    "# plt.scatter(age_dt['age'], age_dt['count'], s=age_dt['count'], alpha=0.5)\n",
    "plt.scatter(age_dt['age'], age_dt['count'])\n",
    "plt.title('Age distribution')\n",
    "plt.xlabel('Age')\n",
    "plt.ylabel('Count')\n",
    "plt.show()\n",
    "\n",
    "age_dt.groupby('income').age.plot(kind='hist', legend='income', figsize=(12,5))\n",
    "plt.title('Income distributed for different ages')"
   ]
  },
  {
   "cell_type": "code",
   "execution_count": 13,
   "metadata": {
    "ExecuteTime": {
     "end_time": "2020-05-28T20:44:50.961143Z",
     "start_time": "2020-05-28T20:44:38.391423Z"
    }
   },
   "outputs": [
    {
     "data": {
      "image/png": "[encoded data removed]",
      "text/plain": [
       "<Figure size 864x360 with 1 Axes>"
      ]
     },
     "metadata": {
      "needs_background": "light"
     },
     "output_type": "display_data"
    },
    {
     "data": {
      "image/png": "[encoded data removed]",
      "text/plain": [
       "<Figure size 8265.6x288 with 41 Axes>"
      ]
     },
     "metadata": {
      "needs_background": "light"
     },
     "output_type": "display_data"
    }
   ],
   "source": [
    "#Country Distribution\n",
    "\n",
    "country_df = dataset.copy()\n",
    "country_df = country_df.rename(columns={'native-country':'country'})\n",
    "country_df['country_count'] = country_df.groupby(['country','income'], as_index=True)['country'].transform('count')\n",
    "country_df['country'] = country_df['country'].loc[country_df[country_df['country']!='United-States'].index]\n",
    "plt.figure(figsize=(12,5))\n",
    "sns.countplot(x=country_df['country'])\n",
    "plt.xticks(rotation=40,ha='right')\n",
    "plt.title(\"Country Distribution\")\n",
    "plt.xlabel('Country')\n",
    "plt.ylabel('Number of records')\n",
    "\n",
    "# country_df.groupby('income').country.plot(kind='hist', legend='income')\n",
    "# plt.title('Income distributed for different countries')\n",
    "\n",
    "ax = sns.catplot(x=\"income\", y=\"country_count\",\n",
    "                hue=\"income\", col=\"country\",\n",
    "                data=country_df, kind=\"bar\",\n",
    "                height=4, aspect=.7);"
   ]
  },
  {
   "cell_type": "code",
   "execution_count": null,
   "metadata": {},
   "outputs": [],
   "source": [
    "#Education Distribution\n",
    "\n",
    "education_df = dataset.copy()\n",
    "education_df['education_count'] = education_df.groupby(['education','income'], as_index=True)['education'].transform('count')\n",
    "\n",
    "plt.figure(figsize=(12,5))\n",
    "sns.countplot(x=education_df['education'])\n",
    "plt.xticks(rotation=40,ha='right')\n",
    "plt.title(\"Education Distribution\")\n",
    "plt.xlabel('Education')\n",
    "plt.ylabel('Number of records')\n",
    "\n",
    "ax = sns.catplot(x=\"income\", y=\"education_count\",\n",
    "                hue=\"income\", col=\"education\",\n",
    "                data=education_df, kind=\"bar\",\n",
    "                height=4, aspect=.7);"
   ]
  },
  {
   "cell_type": "code",
   "execution_count": 14,
   "metadata": {
    "ExecuteTime": {
     "end_time": "2020-05-28T20:45:02.978894Z",
     "start_time": "2020-05-28T20:45:01.771111Z"
    }
   },
   "outputs": [
    {
     "data": {
      "image/png": "[encoded data removed]",
      "text/plain": [
       "<Figure size 864x360 with 1 Axes>"
      ]
     },
     "metadata": {
      "needs_background": "light"
     },
     "output_type": "display_data"
    },
    {
     "data": {
      "image/png": "[encoded data removed]",
      "text/plain": [
       "<Figure size 403.2x288 with 2 Axes>"
      ]
     },
     "metadata": {
      "needs_background": "light"
     },
     "output_type": "display_data"
    }
   ],
   "source": [
    "#Gender Distribution\n",
    "\n",
    "gender_df = dataset.copy()\n",
    "gender_df['gender_count'] = gender_df.groupby(['sex','income'], as_index=True)['sex'].transform('count')\n",
    "\n",
    "plt.figure(figsize=(12,5))\n",
    "sns.countplot(x=gender_df['sex'])\n",
    "plt.xticks(rotation=40,ha='right')\n",
    "plt.title(\"Gender Distribution\")\n",
    "plt.xlabel('Gender')\n",
    "plt.ylabel('Number of records')\n",
    "\n",
    "ax = sns.catplot(x=\"income\", y=\"gender_count\",\n",
    "                hue=\"income\", col=\"sex\",\n",
    "                data=gender_df, kind=\"bar\",\n",
    "                height=4, aspect=.7);"
   ]
  },
  {
   "cell_type": "code",
   "execution_count": null,
   "metadata": {},
   "outputs": [],
   "source": [
    "#Occupation, Marital Status, Workclass, Race Distribution\n",
    "\n",
    "occupation_df = dataset.copy()\n",
    "occupation_df['occupation_count'] = occupation_df.groupby(['occupation','income'], as_index=True)['occupation'].transform('count')\n",
    "occupation_df['race_count'] = occupation_df.groupby(['race','income'], as_index=True)['race'].transform('count')\n",
    "occupation_df = occupation_df.rename(columns={\"marital-status\":\"status\"})\n",
    "occupation_df['martial_count'] = occupation_df.groupby(['status','income'], as_index=True)['status'].transform('count')\n",
    "occupation_df['workclass_count'] = occupation_df.groupby(['workclass','income'], as_index=True)['workclass'].transform('count')\n",
    "\n",
    "ax = sns.catplot(x=\"income\", y=\"occupation_count\",\n",
    "                hue=\"income\", col=\"occupation\",\n",
    "                data=occupation_df, kind=\"bar\",\n",
    "                height=4, aspect=.7);\n",
    "\n",
    "ax = sns.catplot(x=\"income\", y=\"race_count\",\n",
    "                hue=\"income\", col=\"race\",\n",
    "                data=occupation_df, kind=\"bar\",\n",
    "                height=4, aspect=.7);\n",
    "\n",
    "ax = sns.catplot(x=\"income\", y=\"martial_count\",\n",
    "                hue=\"income\", col=\"status\",\n",
    "                data=occupation_df, kind=\"bar\",\n",
    "                height=4, aspect=.7);\n",
    "\n",
    "ax = sns.catplot(x=\"income\", y=\"workclass_count\",\n",
    "                hue=\"income\", col=\"workclass\",\n",
    "                data=occupation_df, kind=\"bar\",\n",
    "                height=4, aspect=.7);"
   ]
  },
  {
   "cell_type": "code",
   "execution_count": null,
   "metadata": {},
   "outputs": [],
   "source": [
    "sns.pairplot(dataset, hue=\"income\")\n",
    "sns.pairplot(dataset)\n",
    "plt.figure(figsize=(12,5))\n",
    "sns.heatmap(dataset.corr(), annot=True)"
   ]
  },
  {
   "cell_type": "code",
   "execution_count": null,
   "metadata": {},
   "outputs": [],
   "source": [
    "#Hour-age-income\n",
    "\n",
    "df = dataset.copy()\n",
    "df['count_hours'] = df.groupby(['hours-per-week'], as_index=True)['hours-per-week'].transform('count')\n",
    "\n",
    "plt.figure(figsize=(8,5))\n",
    "plt.scatter(df['hours-per-week'], df['count_hours'])\n",
    "plt.title('hours-per-week distribution')\n",
    "plt.xlabel('Hours per week')\n",
    "plt.ylabel('Frequency')\n",
    "plt.show()\n",
    "\n",
    "#Hour-age\n",
    "fig, ax = plt.subplots(figsize=(14.7, 8.27))\n",
    "sns.lineplot(ax=ax, x=\"age\", y=\"hours-per-week\",data=df)\n",
    "# df.loc[(df['age']<30) & (df['hours-per-week']>50)]\n",
    "\n",
    "# fig, ax = plt.subplots(figsize=(12.7, 8.27))\n",
    "# p1 = sns.relplot(ax=ax, x=\"age\", y=\"hours-per-week\", hue=\"income\", data=dataset);\n",
    "# plt.close(p1.fig)\n",
    "dataframe.groupby('category')['hours-per-week'].describe()"
   ]
  },
  {
   "cell_type": "code",
   "execution_count": null,
   "metadata": {},
   "outputs": [],
   "source": [
    "capitalgain_df = dataset.copy()\n",
    "capitalgain_df.drop(capitalgain_df.loc[capitalgain_df['capital-gain'] == 0].index,inplace=True)\n",
    "print(capitalgain_df.shape)\n",
    "plt.figure(figsize=(12,5))\n",
    "ax = sns.distplot(capitalgain_df['capital-gain'], kde=True);\n",
    "\n",
    "dataset.groupby('income')['capital-gain'].mean()"
   ]
  },
  {
   "cell_type": "code",
   "execution_count": null,
   "metadata": {},
   "outputs": [],
   "source": [
    "capitalloss_df = dataset.copy()\n",
    "capitalloss_df.drop(capitalloss_df.loc[capitalloss_df['capital-loss'] == 0].index,inplace=True)\n",
    "print(capitalloss_df.shape)\n",
    "plt.figure(figsize=(12,5))\n",
    "ax = sns.distplot(capitalloss_df['capital-loss'], kde=True);"
   ]
  }
 ],
 "metadata": {
  "kernelspec": {
   "display_name": "Python 3",
   "language": "python",
   "name": "python3"
  },
  "language_info": {
   "codemirror_mode": {
    "name": "ipython",
    "version": 3
   },
   "file_extension": ".py",
   "mimetype": "text/x-python",
   "name": "python",
   "nbconvert_exporter": "python",
   "pygments_lexer": "ipython3",
   "version": "3.7.4"
  },
  "toc": {
   "base_numbering": 1,
   "nav_menu": {},
   "number_sections": true,
   "sideBar": true,
   "skip_h1_title": false,
   "title_cell": "Table of Contents",
   "title_sidebar": "Contents",
   "toc_cell": false,
   "toc_position": {},
   "toc_section_display": true,
   "toc_window_display": false
  },
  "varInspector": {
   "cols": {
    "lenName": 16,
    "lenType": 16,
    "lenVar": 40
   },
   "kernels_config": {
    "python": {
     "delete_cmd_postfix": "",
     "delete_cmd_prefix": "del ",
     "library": "var_list.py",
     "varRefreshCmd": "print(var_dic_list())"
    },
    "r": {
     "delete_cmd_postfix": ") ",
     "delete_cmd_prefix": "rm(",
     "library": "var_list.r",
     "varRefreshCmd": "cat(var_dic_list()) "
    }
   },
   "types_to_exclude": [
    "module",
    "function",
    "builtin_function_or_method",
    "instance",
    "_Feature"
   ],
   "window_display": false
  }
 },
 "nbformat": 4,
 "nbformat_minor": 2
}
