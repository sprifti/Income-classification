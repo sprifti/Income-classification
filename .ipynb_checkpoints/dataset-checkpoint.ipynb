{
 "cells": [
  {
   "cell_type": "markdown",
   "metadata": {},
   "source": [
    "# Import"
   ]
  },
  {
   "cell_type": "code",
   "execution_count": 1,
   "metadata": {
    "ExecuteTime": {
     "end_time": "2020-05-28T13:31:51.346663Z",
     "start_time": "2020-05-28T13:31:49.375872Z"
    }
   },
   "outputs": [
    {
     "name": "stderr",
     "output_type": "stream",
     "text": [
      "/home/serena/anaconda3/lib/python3.7/site-packages/statsmodels/tools/_testing.py:19: FutureWarning: pandas.util.testing is deprecated. Use the functions in the public API at pandas.testing instead.\n",
      "  import pandas.util.testing as tm\n"
     ]
    },
    {
     "data": {
      "text/html": [
       "<style>.container { width:100% !important; }</style>"
      ],
      "text/plain": [
       "<IPython.core.display.HTML object>"
      ]
     },
     "metadata": {},
     "output_type": "display_data"
    }
   ],
   "source": [
    "import numpy as np # linear algebra\n",
    "import pandas as pd # data processing, CSV file I/O (e.g. pd.read_csv)\n",
    "import matplotlib.pyplot as plt\n",
    "from sklearn import preprocessing\n",
    "from sklearn.metrics import classification_report, confusion_matrix\n",
    "from sklearn import metrics\n",
    "from datetime import datetime as dt, timedelta\n",
    "plt.figure(num=None, figsize=(10, 8), dpi=80, facecolor='w', edgecolor='k')\n",
    "import seaborn as sns; sns.set()  # for plot styling\n",
    "%matplotlib inline\n",
    "from IPython.core.display import display, HTML\n",
    "display(HTML(\"<style>.container { width:100% !important; }</style>\"))"
   ]
  },
  {
   "cell_type": "markdown",
   "metadata": {},
   "source": [
    "# Dataset"
   ]
  },
  {
   "cell_type": "code",
   "execution_count": 2,
   "metadata": {
    "ExecuteTime": {
     "end_time": "2020-05-28T13:31:51.362692Z",
     "start_time": "2020-05-28T13:31:51.349190Z"
    }
   },
   "outputs": [],
   "source": [
    "def overview_dataset(dataset):\n",
    "    \n",
    "    df_overview_after = pd.DataFrame(index=dataset.columns)\n",
    "    df_overview_after['NaValues'] = dataset.isna().any()\n",
    "    df_overview_after['dtypes'] = dataset.dtypes\n",
    "    df_overview_after['UniqueValues'] = dataset.nunique()\n",
    "    df_overview_after['RecordNumber'] = dataset.count()\n",
    "    df_overview_after['Median'] = dataset.median()\n",
    "    df_overview_after['Mean'] = dataset.mean()\n",
    "    df_overview_after['Standard Deviation'] = dataset.std()\n",
    "    df_overview_after['25%'] = dataset.quantile(0.25, numeric_only=True)\n",
    "    df_overview_after['75%'] = dataset.quantile(0.75, numeric_only=True)\n",
    "    df_overview_after['Min'] = dataset.min(axis=0)\n",
    "    df_overview_after['Max'] = dataset.max(axis=0)\n",
    "    \n",
    "\n",
    "    return df_overview_after"
   ]
  },
  {
   "cell_type": "code",
   "execution_count": 3,
   "metadata": {
    "ExecuteTime": {
     "end_time": "2020-05-28T13:31:58.206357Z",
     "start_time": "2020-05-28T13:31:51.365452Z"
    }
   },
   "outputs": [
    {
     "data": {
      "text/html": [
       "<div>\n",
       "<style scoped>\n",
       "    .dataframe tbody tr th:only-of-type {\n",
       "        vertical-align: middle;\n",
       "    }\n",
       "\n",
       "    .dataframe tbody tr th {\n",
       "        vertical-align: top;\n",
       "    }\n",
       "\n",
       "    .dataframe thead th {\n",
       "        text-align: right;\n",
       "    }\n",
       "</style>\n",
       "<table border=\"1\" class=\"dataframe\">\n",
       "  <thead>\n",
       "    <tr style=\"text-align: right;\">\n",
       "      <th></th>\n",
       "      <th>NaValues</th>\n",
       "      <th>dtypes</th>\n",
       "      <th>UniqueValues</th>\n",
       "      <th>RecordNumber</th>\n",
       "      <th>Median</th>\n",
       "      <th>Mean</th>\n",
       "      <th>Standard Deviation</th>\n",
       "      <th>25%</th>\n",
       "      <th>75%</th>\n",
       "      <th>Min</th>\n",
       "      <th>Max</th>\n",
       "    </tr>\n",
       "  </thead>\n",
       "  <tbody>\n",
       "    <tr>\n",
       "      <th>age</th>\n",
       "      <td>False</td>\n",
       "      <td>int64</td>\n",
       "      <td>73</td>\n",
       "      <td>32561</td>\n",
       "      <td>37.0</td>\n",
       "      <td>38.581647</td>\n",
       "      <td>13.640433</td>\n",
       "      <td>28.0</td>\n",
       "      <td>48.0</td>\n",
       "      <td>17</td>\n",
       "      <td>90</td>\n",
       "    </tr>\n",
       "    <tr>\n",
       "      <th>workclass</th>\n",
       "      <td>False</td>\n",
       "      <td>object</td>\n",
       "      <td>9</td>\n",
       "      <td>32561</td>\n",
       "      <td>NaN</td>\n",
       "      <td>NaN</td>\n",
       "      <td>NaN</td>\n",
       "      <td>NaN</td>\n",
       "      <td>NaN</td>\n",
       "      <td>?</td>\n",
       "      <td>Without-pay</td>\n",
       "    </tr>\n",
       "    <tr>\n",
       "      <th>fnlwgt</th>\n",
       "      <td>False</td>\n",
       "      <td>int64</td>\n",
       "      <td>21648</td>\n",
       "      <td>32561</td>\n",
       "      <td>178356.0</td>\n",
       "      <td>189778.366512</td>\n",
       "      <td>105549.977697</td>\n",
       "      <td>117827.0</td>\n",
       "      <td>237051.0</td>\n",
       "      <td>12285</td>\n",
       "      <td>1484705</td>\n",
       "    </tr>\n",
       "    <tr>\n",
       "      <th>education</th>\n",
       "      <td>False</td>\n",
       "      <td>object</td>\n",
       "      <td>16</td>\n",
       "      <td>32561</td>\n",
       "      <td>NaN</td>\n",
       "      <td>NaN</td>\n",
       "      <td>NaN</td>\n",
       "      <td>NaN</td>\n",
       "      <td>NaN</td>\n",
       "      <td>10th</td>\n",
       "      <td>Some-college</td>\n",
       "    </tr>\n",
       "    <tr>\n",
       "      <th>education-num</th>\n",
       "      <td>False</td>\n",
       "      <td>int64</td>\n",
       "      <td>16</td>\n",
       "      <td>32561</td>\n",
       "      <td>10.0</td>\n",
       "      <td>10.080679</td>\n",
       "      <td>2.572720</td>\n",
       "      <td>9.0</td>\n",
       "      <td>12.0</td>\n",
       "      <td>1</td>\n",
       "      <td>16</td>\n",
       "    </tr>\n",
       "    <tr>\n",
       "      <th>marital-status</th>\n",
       "      <td>False</td>\n",
       "      <td>object</td>\n",
       "      <td>7</td>\n",
       "      <td>32561</td>\n",
       "      <td>NaN</td>\n",
       "      <td>NaN</td>\n",
       "      <td>NaN</td>\n",
       "      <td>NaN</td>\n",
       "      <td>NaN</td>\n",
       "      <td>Divorced</td>\n",
       "      <td>Widowed</td>\n",
       "    </tr>\n",
       "    <tr>\n",
       "      <th>occupation</th>\n",
       "      <td>False</td>\n",
       "      <td>object</td>\n",
       "      <td>15</td>\n",
       "      <td>32561</td>\n",
       "      <td>NaN</td>\n",
       "      <td>NaN</td>\n",
       "      <td>NaN</td>\n",
       "      <td>NaN</td>\n",
       "      <td>NaN</td>\n",
       "      <td>?</td>\n",
       "      <td>Transport-moving</td>\n",
       "    </tr>\n",
       "    <tr>\n",
       "      <th>relationship</th>\n",
       "      <td>False</td>\n",
       "      <td>object</td>\n",
       "      <td>6</td>\n",
       "      <td>32561</td>\n",
       "      <td>NaN</td>\n",
       "      <td>NaN</td>\n",
       "      <td>NaN</td>\n",
       "      <td>NaN</td>\n",
       "      <td>NaN</td>\n",
       "      <td>Husband</td>\n",
       "      <td>Wife</td>\n",
       "    </tr>\n",
       "    <tr>\n",
       "      <th>race</th>\n",
       "      <td>False</td>\n",
       "      <td>object</td>\n",
       "      <td>5</td>\n",
       "      <td>32561</td>\n",
       "      <td>NaN</td>\n",
       "      <td>NaN</td>\n",
       "      <td>NaN</td>\n",
       "      <td>NaN</td>\n",
       "      <td>NaN</td>\n",
       "      <td>Amer-Indian-Eskimo</td>\n",
       "      <td>White</td>\n",
       "    </tr>\n",
       "    <tr>\n",
       "      <th>sex</th>\n",
       "      <td>False</td>\n",
       "      <td>object</td>\n",
       "      <td>2</td>\n",
       "      <td>32561</td>\n",
       "      <td>NaN</td>\n",
       "      <td>NaN</td>\n",
       "      <td>NaN</td>\n",
       "      <td>NaN</td>\n",
       "      <td>NaN</td>\n",
       "      <td>Female</td>\n",
       "      <td>Male</td>\n",
       "    </tr>\n",
       "    <tr>\n",
       "      <th>capital-gain</th>\n",
       "      <td>False</td>\n",
       "      <td>int64</td>\n",
       "      <td>119</td>\n",
       "      <td>32561</td>\n",
       "      <td>0.0</td>\n",
       "      <td>1077.648844</td>\n",
       "      <td>7385.292085</td>\n",
       "      <td>0.0</td>\n",
       "      <td>0.0</td>\n",
       "      <td>0</td>\n",
       "      <td>99999</td>\n",
       "    </tr>\n",
       "    <tr>\n",
       "      <th>capital-loss</th>\n",
       "      <td>False</td>\n",
       "      <td>int64</td>\n",
       "      <td>92</td>\n",
       "      <td>32561</td>\n",
       "      <td>0.0</td>\n",
       "      <td>87.303830</td>\n",
       "      <td>402.960219</td>\n",
       "      <td>0.0</td>\n",
       "      <td>0.0</td>\n",
       "      <td>0</td>\n",
       "      <td>4356</td>\n",
       "    </tr>\n",
       "    <tr>\n",
       "      <th>hours-per-week</th>\n",
       "      <td>False</td>\n",
       "      <td>int64</td>\n",
       "      <td>94</td>\n",
       "      <td>32561</td>\n",
       "      <td>40.0</td>\n",
       "      <td>40.437456</td>\n",
       "      <td>12.347429</td>\n",
       "      <td>40.0</td>\n",
       "      <td>45.0</td>\n",
       "      <td>1</td>\n",
       "      <td>99</td>\n",
       "    </tr>\n",
       "    <tr>\n",
       "      <th>native-country</th>\n",
       "      <td>False</td>\n",
       "      <td>object</td>\n",
       "      <td>42</td>\n",
       "      <td>32561</td>\n",
       "      <td>NaN</td>\n",
       "      <td>NaN</td>\n",
       "      <td>NaN</td>\n",
       "      <td>NaN</td>\n",
       "      <td>NaN</td>\n",
       "      <td>?</td>\n",
       "      <td>Yugoslavia</td>\n",
       "    </tr>\n",
       "    <tr>\n",
       "      <th>income</th>\n",
       "      <td>False</td>\n",
       "      <td>object</td>\n",
       "      <td>2</td>\n",
       "      <td>32561</td>\n",
       "      <td>NaN</td>\n",
       "      <td>NaN</td>\n",
       "      <td>NaN</td>\n",
       "      <td>NaN</td>\n",
       "      <td>NaN</td>\n",
       "      <td>&lt;=50K</td>\n",
       "      <td>&gt;50K</td>\n",
       "    </tr>\n",
       "  </tbody>\n",
       "</table>\n",
       "</div>"
      ],
      "text/plain": [
       "                NaValues  dtypes  UniqueValues  RecordNumber    Median  \\\n",
       "age                False   int64            73         32561      37.0   \n",
       "workclass          False  object             9         32561       NaN   \n",
       "fnlwgt             False   int64         21648         32561  178356.0   \n",
       "education          False  object            16         32561       NaN   \n",
       "education-num      False   int64            16         32561      10.0   \n",
       "marital-status     False  object             7         32561       NaN   \n",
       "occupation         False  object            15         32561       NaN   \n",
       "relationship       False  object             6         32561       NaN   \n",
       "race               False  object             5         32561       NaN   \n",
       "sex                False  object             2         32561       NaN   \n",
       "capital-gain       False   int64           119         32561       0.0   \n",
       "capital-loss       False   int64            92         32561       0.0   \n",
       "hours-per-week     False   int64            94         32561      40.0   \n",
       "native-country     False  object            42         32561       NaN   \n",
       "income             False  object             2         32561       NaN   \n",
       "\n",
       "                         Mean  Standard Deviation       25%       75%  \\\n",
       "age                 38.581647           13.640433      28.0      48.0   \n",
       "workclass                 NaN                 NaN       NaN       NaN   \n",
       "fnlwgt          189778.366512       105549.977697  117827.0  237051.0   \n",
       "education                 NaN                 NaN       NaN       NaN   \n",
       "education-num       10.080679            2.572720       9.0      12.0   \n",
       "marital-status            NaN                 NaN       NaN       NaN   \n",
       "occupation                NaN                 NaN       NaN       NaN   \n",
       "relationship              NaN                 NaN       NaN       NaN   \n",
       "race                      NaN                 NaN       NaN       NaN   \n",
       "sex                       NaN                 NaN       NaN       NaN   \n",
       "capital-gain      1077.648844         7385.292085       0.0       0.0   \n",
       "capital-loss        87.303830          402.960219       0.0       0.0   \n",
       "hours-per-week      40.437456           12.347429      40.0      45.0   \n",
       "native-country            NaN                 NaN       NaN       NaN   \n",
       "income                    NaN                 NaN       NaN       NaN   \n",
       "\n",
       "                               Min               Max  \n",
       "age                             17                90  \n",
       "workclass                        ?       Without-pay  \n",
       "fnlwgt                       12285           1484705  \n",
       "education                     10th      Some-college  \n",
       "education-num                    1                16  \n",
       "marital-status            Divorced           Widowed  \n",
       "occupation                       ?  Transport-moving  \n",
       "relationship               Husband              Wife  \n",
       "race            Amer-Indian-Eskimo             White  \n",
       "sex                         Female              Male  \n",
       "capital-gain                     0             99999  \n",
       "capital-loss                     0              4356  \n",
       "hours-per-week                   1                99  \n",
       "native-country                   ?        Yugoslavia  \n",
       "income                       <=50K              >50K  "
      ]
     },
     "execution_count": 3,
     "metadata": {},
     "output_type": "execute_result"
    }
   ],
   "source": [
    "#Read the file and create dataset\n",
    "filepath = 'income_evaluation.csv'\n",
    "dataset = pd.read_csv(filepath, encoding='ISO_8859-1')\n",
    "\n",
    "#trim whitespace from al columns\n",
    "df_obj = dataset.select_dtypes(['object'])\n",
    "dataset[df_obj.columns] = df_obj.apply(lambda x: x.str.strip())\n",
    "pre_dataset = overview_dataset(dataset)\n",
    "pre_dataset\n"
   ]
  },
  {
   "cell_type": "code",
   "execution_count": 4,
   "metadata": {
    "ExecuteTime": {
     "end_time": "2020-05-28T13:32:04.048200Z",
     "start_time": "2020-05-28T13:31:58.208760Z"
    },
    "scrolled": false
   },
   "outputs": [
    {
     "name": "stdout",
     "output_type": "stream",
     "text": [
      "Droping 1843 records from occupation column\n",
      "Droping 1836 records from workclass column\n",
      "Droping 583 records from native-country column\n",
      "Dropped about 7.37% of the records of the dataset\n"
     ]
    },
    {
     "data": {
      "text/html": [
       "<div>\n",
       "<style scoped>\n",
       "    .dataframe tbody tr th:only-of-type {\n",
       "        vertical-align: middle;\n",
       "    }\n",
       "\n",
       "    .dataframe tbody tr th {\n",
       "        vertical-align: top;\n",
       "    }\n",
       "\n",
       "    .dataframe thead th {\n",
       "        text-align: right;\n",
       "    }\n",
       "</style>\n",
       "<table border=\"1\" class=\"dataframe\">\n",
       "  <thead>\n",
       "    <tr style=\"text-align: right;\">\n",
       "      <th></th>\n",
       "      <th>NaValues</th>\n",
       "      <th>dtypes</th>\n",
       "      <th>UniqueValues</th>\n",
       "      <th>RecordNumber</th>\n",
       "      <th>Median</th>\n",
       "      <th>Mean</th>\n",
       "      <th>Standard Deviation</th>\n",
       "      <th>25%</th>\n",
       "      <th>75%</th>\n",
       "      <th>Min</th>\n",
       "      <th>Max</th>\n",
       "    </tr>\n",
       "  </thead>\n",
       "  <tbody>\n",
       "    <tr>\n",
       "      <th>age</th>\n",
       "      <td>False</td>\n",
       "      <td>int64</td>\n",
       "      <td>72</td>\n",
       "      <td>30162</td>\n",
       "      <td>37.0</td>\n",
       "      <td>38.437902</td>\n",
       "      <td>13.134665</td>\n",
       "      <td>28.00</td>\n",
       "      <td>47.0</td>\n",
       "      <td>17</td>\n",
       "      <td>90</td>\n",
       "    </tr>\n",
       "    <tr>\n",
       "      <th>workclass</th>\n",
       "      <td>False</td>\n",
       "      <td>object</td>\n",
       "      <td>7</td>\n",
       "      <td>30162</td>\n",
       "      <td>NaN</td>\n",
       "      <td>NaN</td>\n",
       "      <td>NaN</td>\n",
       "      <td>NaN</td>\n",
       "      <td>NaN</td>\n",
       "      <td>Federal-gov</td>\n",
       "      <td>Without-pay</td>\n",
       "    </tr>\n",
       "    <tr>\n",
       "      <th>fnlwgt</th>\n",
       "      <td>False</td>\n",
       "      <td>int64</td>\n",
       "      <td>20263</td>\n",
       "      <td>30162</td>\n",
       "      <td>178425.0</td>\n",
       "      <td>189793.833930</td>\n",
       "      <td>105652.971529</td>\n",
       "      <td>117627.25</td>\n",
       "      <td>237628.5</td>\n",
       "      <td>13769</td>\n",
       "      <td>1484705</td>\n",
       "    </tr>\n",
       "    <tr>\n",
       "      <th>education</th>\n",
       "      <td>False</td>\n",
       "      <td>object</td>\n",
       "      <td>16</td>\n",
       "      <td>30162</td>\n",
       "      <td>NaN</td>\n",
       "      <td>NaN</td>\n",
       "      <td>NaN</td>\n",
       "      <td>NaN</td>\n",
       "      <td>NaN</td>\n",
       "      <td>10th</td>\n",
       "      <td>Some-college</td>\n",
       "    </tr>\n",
       "    <tr>\n",
       "      <th>education-num</th>\n",
       "      <td>False</td>\n",
       "      <td>int64</td>\n",
       "      <td>16</td>\n",
       "      <td>30162</td>\n",
       "      <td>10.0</td>\n",
       "      <td>10.121312</td>\n",
       "      <td>2.549995</td>\n",
       "      <td>9.00</td>\n",
       "      <td>13.0</td>\n",
       "      <td>1</td>\n",
       "      <td>16</td>\n",
       "    </tr>\n",
       "    <tr>\n",
       "      <th>marital-status</th>\n",
       "      <td>False</td>\n",
       "      <td>object</td>\n",
       "      <td>7</td>\n",
       "      <td>30162</td>\n",
       "      <td>NaN</td>\n",
       "      <td>NaN</td>\n",
       "      <td>NaN</td>\n",
       "      <td>NaN</td>\n",
       "      <td>NaN</td>\n",
       "      <td>Divorced</td>\n",
       "      <td>Widowed</td>\n",
       "    </tr>\n",
       "    <tr>\n",
       "      <th>occupation</th>\n",
       "      <td>False</td>\n",
       "      <td>object</td>\n",
       "      <td>14</td>\n",
       "      <td>30162</td>\n",
       "      <td>NaN</td>\n",
       "      <td>NaN</td>\n",
       "      <td>NaN</td>\n",
       "      <td>NaN</td>\n",
       "      <td>NaN</td>\n",
       "      <td>Adm-clerical</td>\n",
       "      <td>Transport-moving</td>\n",
       "    </tr>\n",
       "    <tr>\n",
       "      <th>relationship</th>\n",
       "      <td>False</td>\n",
       "      <td>object</td>\n",
       "      <td>6</td>\n",
       "      <td>30162</td>\n",
       "      <td>NaN</td>\n",
       "      <td>NaN</td>\n",
       "      <td>NaN</td>\n",
       "      <td>NaN</td>\n",
       "      <td>NaN</td>\n",
       "      <td>Husband</td>\n",
       "      <td>Wife</td>\n",
       "    </tr>\n",
       "    <tr>\n",
       "      <th>race</th>\n",
       "      <td>False</td>\n",
       "      <td>object</td>\n",
       "      <td>5</td>\n",
       "      <td>30162</td>\n",
       "      <td>NaN</td>\n",
       "      <td>NaN</td>\n",
       "      <td>NaN</td>\n",
       "      <td>NaN</td>\n",
       "      <td>NaN</td>\n",
       "      <td>Amer-Indian-Eskimo</td>\n",
       "      <td>White</td>\n",
       "    </tr>\n",
       "    <tr>\n",
       "      <th>sex</th>\n",
       "      <td>False</td>\n",
       "      <td>object</td>\n",
       "      <td>2</td>\n",
       "      <td>30162</td>\n",
       "      <td>NaN</td>\n",
       "      <td>NaN</td>\n",
       "      <td>NaN</td>\n",
       "      <td>NaN</td>\n",
       "      <td>NaN</td>\n",
       "      <td>Female</td>\n",
       "      <td>Male</td>\n",
       "    </tr>\n",
       "    <tr>\n",
       "      <th>capital-gain</th>\n",
       "      <td>False</td>\n",
       "      <td>int64</td>\n",
       "      <td>118</td>\n",
       "      <td>30162</td>\n",
       "      <td>0.0</td>\n",
       "      <td>1092.007858</td>\n",
       "      <td>7406.346497</td>\n",
       "      <td>0.00</td>\n",
       "      <td>0.0</td>\n",
       "      <td>0</td>\n",
       "      <td>99999</td>\n",
       "    </tr>\n",
       "    <tr>\n",
       "      <th>capital-loss</th>\n",
       "      <td>False</td>\n",
       "      <td>int64</td>\n",
       "      <td>90</td>\n",
       "      <td>30162</td>\n",
       "      <td>0.0</td>\n",
       "      <td>88.372489</td>\n",
       "      <td>404.298370</td>\n",
       "      <td>0.00</td>\n",
       "      <td>0.0</td>\n",
       "      <td>0</td>\n",
       "      <td>4356</td>\n",
       "    </tr>\n",
       "    <tr>\n",
       "      <th>hours-per-week</th>\n",
       "      <td>False</td>\n",
       "      <td>int64</td>\n",
       "      <td>94</td>\n",
       "      <td>30162</td>\n",
       "      <td>40.0</td>\n",
       "      <td>40.931238</td>\n",
       "      <td>11.979984</td>\n",
       "      <td>40.00</td>\n",
       "      <td>45.0</td>\n",
       "      <td>1</td>\n",
       "      <td>99</td>\n",
       "    </tr>\n",
       "    <tr>\n",
       "      <th>native-country</th>\n",
       "      <td>False</td>\n",
       "      <td>object</td>\n",
       "      <td>41</td>\n",
       "      <td>30162</td>\n",
       "      <td>NaN</td>\n",
       "      <td>NaN</td>\n",
       "      <td>NaN</td>\n",
       "      <td>NaN</td>\n",
       "      <td>NaN</td>\n",
       "      <td>Cambodia</td>\n",
       "      <td>Yugoslavia</td>\n",
       "    </tr>\n",
       "    <tr>\n",
       "      <th>income</th>\n",
       "      <td>False</td>\n",
       "      <td>object</td>\n",
       "      <td>2</td>\n",
       "      <td>30162</td>\n",
       "      <td>NaN</td>\n",
       "      <td>NaN</td>\n",
       "      <td>NaN</td>\n",
       "      <td>NaN</td>\n",
       "      <td>NaN</td>\n",
       "      <td>&lt;=50K</td>\n",
       "      <td>&gt;50K</td>\n",
       "    </tr>\n",
       "  </tbody>\n",
       "</table>\n",
       "</div>"
      ],
      "text/plain": [
       "                NaValues  dtypes  UniqueValues  RecordNumber    Median  \\\n",
       "age                False   int64            72         30162      37.0   \n",
       "workclass          False  object             7         30162       NaN   \n",
       "fnlwgt             False   int64         20263         30162  178425.0   \n",
       "education          False  object            16         30162       NaN   \n",
       "education-num      False   int64            16         30162      10.0   \n",
       "marital-status     False  object             7         30162       NaN   \n",
       "occupation         False  object            14         30162       NaN   \n",
       "relationship       False  object             6         30162       NaN   \n",
       "race               False  object             5         30162       NaN   \n",
       "sex                False  object             2         30162       NaN   \n",
       "capital-gain       False   int64           118         30162       0.0   \n",
       "capital-loss       False   int64            90         30162       0.0   \n",
       "hours-per-week     False   int64            94         30162      40.0   \n",
       "native-country     False  object            41         30162       NaN   \n",
       "income             False  object             2         30162       NaN   \n",
       "\n",
       "                         Mean  Standard Deviation        25%       75%  \\\n",
       "age                 38.437902           13.134665      28.00      47.0   \n",
       "workclass                 NaN                 NaN        NaN       NaN   \n",
       "fnlwgt          189793.833930       105652.971529  117627.25  237628.5   \n",
       "education                 NaN                 NaN        NaN       NaN   \n",
       "education-num       10.121312            2.549995       9.00      13.0   \n",
       "marital-status            NaN                 NaN        NaN       NaN   \n",
       "occupation                NaN                 NaN        NaN       NaN   \n",
       "relationship              NaN                 NaN        NaN       NaN   \n",
       "race                      NaN                 NaN        NaN       NaN   \n",
       "sex                       NaN                 NaN        NaN       NaN   \n",
       "capital-gain      1092.007858         7406.346497       0.00       0.0   \n",
       "capital-loss        88.372489          404.298370       0.00       0.0   \n",
       "hours-per-week      40.931238           11.979984      40.00      45.0   \n",
       "native-country            NaN                 NaN        NaN       NaN   \n",
       "income                    NaN                 NaN        NaN       NaN   \n",
       "\n",
       "                               Min               Max  \n",
       "age                             17                90  \n",
       "workclass              Federal-gov       Without-pay  \n",
       "fnlwgt                       13769           1484705  \n",
       "education                     10th      Some-college  \n",
       "education-num                    1                16  \n",
       "marital-status            Divorced           Widowed  \n",
       "occupation            Adm-clerical  Transport-moving  \n",
       "relationship               Husband              Wife  \n",
       "race            Amer-Indian-Eskimo             White  \n",
       "sex                         Female              Male  \n",
       "capital-gain                     0             99999  \n",
       "capital-loss                     0              4356  \n",
       "hours-per-week                   1                99  \n",
       "native-country            Cambodia        Yugoslavia  \n",
       "income                       <=50K              >50K  "
      ]
     },
     "execution_count": 4,
     "metadata": {},
     "output_type": "execute_result"
    }
   ],
   "source": [
    "#Finding and deleting all unknown values\n",
    "\n",
    "occupation = int(dataset.occupation[dataset.loc[dataset.occupation == '?'].index].count())\n",
    "workclass = int(dataset.workclass[dataset.loc[dataset.workclass == '?'].index].count())\n",
    "country = int(dataset['native-country'][dataset.loc[dataset['native-country'] == '?'].index].count())\n",
    "\n",
    "print(\"Droping \" + str(occupation) + \" records from occupation column\")\n",
    "print(\"Droping \" + str(workclass) + \" records from workclass column\")\n",
    "print(\"Droping \" + str(country) + \" records from native-country column\")\n",
    "before = dataset.shape[0]\n",
    "\n",
    "#drop the records that have a question mark (?) on one of the columns\n",
    "dataset.drop(dataset.loc[dataset['native-country'] == '?'].index,inplace=True)\n",
    "dataset.drop(dataset.loc[dataset['workclass'] == '?'].index,inplace=True)\n",
    "dataset.drop(dataset.loc[dataset['occupation'] == '?'].index,inplace=True)\n",
    "\n",
    "\n",
    "post_dataset = overview_dataset(dataset) \n",
    "after = dataset.shape[0]\n",
    "print(\"Dropped about \" + str(round(100 * (before-after)/before,2)) + \"% of the records of the dataset\")\n",
    "post_dataset"
   ]
  },
  {
   "cell_type": "markdown",
   "metadata": {},
   "source": [
    "# Categorical and Numeric Data"
   ]
  },
  {
   "cell_type": "code",
   "execution_count": 17,
   "metadata": {
    "ExecuteTime": {
     "end_time": "2020-05-28T13:34:03.461095Z",
     "start_time": "2020-05-28T13:34:02.334448Z"
    }
   },
   "outputs": [],
   "source": [
    "#Encode all categorical data with OneHotEncoding\n",
    "import category_encoders as ce\n",
    "\n",
    "#education: the highest level of education achieved by an individual and\n",
    "#education-num: the highest level of education achieved in numerical form.\n",
    "#drop the education column and we only use the education-num column \n",
    "dataframe = dataset.copy()\n",
    "dataframe = dataframe.drop(['education','count'], axis=1)\n",
    "encoder = ce.OneHotEncoder(cols=['workclass', 'marital-status', 'occupation', 'relationship', \n",
    "                                 'race', 'sex', 'native-country'])\n",
    "dataframe = encoder.fit_transform(dataframe)\n",
    "\n"
   ]
  },
  {
   "cell_type": "code",
   "execution_count": 18,
   "metadata": {
    "ExecuteTime": {
     "end_time": "2020-05-28T13:34:03.481467Z",
     "start_time": "2020-05-28T13:34:03.462553Z"
    }
   },
   "outputs": [],
   "source": [
    "#Label Encoding for income column\n",
    "from sklearn import preprocessing\n",
    "\n",
    "label_encoding = preprocessing.LabelEncoder()\n",
    "dataframe.income = label_encoding.fit_transform(dataframe.income)\n"
   ]
  },
  {
   "cell_type": "code",
   "execution_count": 19,
   "metadata": {
    "ExecuteTime": {
     "end_time": "2020-05-28T13:34:04.696541Z",
     "start_time": "2020-05-28T13:34:03.485478Z"
    },
    "scrolled": false
   },
   "outputs": [
    {
     "data": {
      "image/png": "[encoded data removed]",
      "text/plain": [
       "<Figure size 720x576 with 1 Axes>"
      ]
     },
     "metadata": {},
     "output_type": "display_data"
    },
    {
     "data": {
      "image/png": "[encoded data removed]",
      "text/plain": [
       "<Figure size 720x576 with 1 Axes>"
      ]
     },
     "metadata": {},
     "output_type": "display_data"
    },
    {
     "data": {
      "image/png": "[encoded data removed]",
      "text/plain": [
       "<Figure size 720x576 with 1 Axes>"
      ]
     },
     "metadata": {},
     "output_type": "display_data"
    },
    {
     "data": {
      "image/png": "[encoded data removed]",
      "text/plain": [
       "<Figure size 720x576 with 1 Axes>"
      ]
     },
     "metadata": {},
     "output_type": "display_data"
    },
    {
     "data": {
      "image/png": "[encoded data removed]",
      "text/plain": [
       "<Figure size 720x576 with 1 Axes>"
      ]
     },
     "metadata": {},
     "output_type": "display_data"
    }
   ],
   "source": [
    "#Outliers\n",
    "\n",
    "numerical = ['age','education-num','capital-gain','capital-loss','hours-per-week']\n",
    "\n",
    "for var in numerical:\n",
    "    f, ax = plt.subplots(figsize=(10,8))\n",
    "    x = dataset[var]\n",
    "    ax = sns.boxplot(x)\n",
    "    ax.set_title(\"Visualize outliers in \" + var + \" variable\")\n",
    "    plt.show()\n",
    "# dataset.loc[dataset['capital-gain'] == 99999]\n",
    "\n"
   ]
  },
  {
   "cell_type": "markdown",
   "metadata": {},
   "source": [
    "# Scaling Data"
   ]
  },
  {
   "cell_type": "code",
   "execution_count": 20,
   "metadata": {
    "ExecuteTime": {
     "end_time": "2020-05-28T13:34:04.874245Z",
     "start_time": "2020-05-28T13:34:04.698998Z"
    }
   },
   "outputs": [],
   "source": [
    "#Split data into training and testing 80-20\n",
    "\n",
    "from sklearn.model_selection import train_test_split\n",
    "\n",
    "X = dataframe.drop(['income'], axis = 1)\n",
    "y = dataframe['income']\n",
    "X_train, X_test, y_train, y_test = train_test_split(X, y, test_size = 0.20)\n",
    "\n",
    "\n",
    "\n",
    "#We use RobustScaler if we have outliers and we want to reduce their influence\n",
    "\n",
    "from sklearn.preprocessing import RobustScaler\n",
    "\n",
    "scaler = RobustScaler()\n",
    "columns = X_train.columns\n",
    "\n",
    "X_train = scaler.fit_transform(X_train)\n",
    "X_train = pd.DataFrame(X_train, columns=[columns])\n",
    "\n",
    "X_test = scaler.transform(X_test)\n",
    "X_test = pd.DataFrame(X_test, columns=[columns])\n"
   ]
  },
  {
   "cell_type": "markdown",
   "metadata": {},
   "source": [
    "# RandomForestClassifier"
   ]
  },
  {
   "cell_type": "code",
   "execution_count": 21,
   "metadata": {
    "ExecuteTime": {
     "end_time": "2020-05-28T13:34:04.881216Z",
     "start_time": "2020-05-28T13:34:04.878162Z"
    }
   },
   "outputs": [],
   "source": [
    "#SVM Implementation\n",
    "\n",
    "# from sklearn.svm import LinearSVR\n",
    "\n",
    "# linsvr = LinearSVR()\n",
    "# linsvr.fit(X_train, y_train)\n",
    "# y_pred = linsvr.predict(X_test)\n",
    "\n",
    "# from sklearn.metrics import classification_report, confusion_matrix\n",
    "# print(confusion_matrix(y_test,y_pred))\n",
    "# print(classification_report(y_test,y_pred))\n"
   ]
  },
  {
   "cell_type": "code",
   "execution_count": 22,
   "metadata": {
    "ExecuteTime": {
     "end_time": "2020-05-28T13:34:05.653426Z",
     "start_time": "2020-05-28T13:34:04.883380Z"
    }
   },
   "outputs": [
    {
     "name": "stderr",
     "output_type": "stream",
     "text": [
      "/home/serena/anaconda3/lib/python3.7/site-packages/sklearn/ensemble/forest.py:245: FutureWarning: The default value of n_estimators will change from 10 in version 0.20 to 100 in 0.22.\n",
      "  \"10 in version 0.20 to 100 in 0.22.\", FutureWarning)\n"
     ]
    },
    {
     "name": "stdout",
     "output_type": "stream",
     "text": [
      "Accuracy for rbf RandomForestClassifier is  0.8453505718547986\n",
      "[[4192  330]\n",
      " [ 603  908]]\n",
      "              precision    recall  f1-score   support\n",
      "\n",
      "           0       0.87      0.93      0.90      4522\n",
      "           1       0.73      0.60      0.66      1511\n",
      "\n",
      "    accuracy                           0.85      6033\n",
      "   macro avg       0.80      0.76      0.78      6033\n",
      "weighted avg       0.84      0.85      0.84      6033\n",
      "\n"
     ]
    },
    {
     "data": {
      "text/plain": [
       "<matplotlib.axes._subplots.AxesSubplot at 0x7f0c859e8a10>"
      ]
     },
     "execution_count": 22,
     "metadata": {},
     "output_type": "execute_result"
    },
    {
     "data": {
      "image/png": "[encoded data removed]",
      "text/plain": [
       "<Figure size 576x396 with 2 Axes>"
      ]
     },
     "metadata": {},
     "output_type": "display_data"
    }
   ],
   "source": [
    "from sklearn.ensemble import RandomForestClassifier\n",
    "\n",
    "rfc = RandomForestClassifier(random_state=0)\n",
    "\n",
    "rfc.fit(X_train, y_train)\n",
    "prediction = rfc.predict(X_test)\n",
    "\n",
    "print('Accuracy for rbf RandomForestClassifier is ',metrics.accuracy_score(prediction,y_test))\n",
    "print(confusion_matrix(y_test,prediction))\n",
    "print(classification_report(y_test,prediction))\n",
    "\n",
    "#The result of this algorithm is shown using the confusion_matrix where we see that:\n",
    "#For the first class <=50K:\n",
    "#There are 4239 True Positive (TP) : Observation is positive, and is predicted to be positive.\n",
    "#There are 298 False Negative (FN) : Observation is positive, but is predicted negative.\n",
    "#For the second class >50K:\n",
    "#There are 648 True Positive (TP) : Observation is positive, and is predicted to be positive.\n",
    "#There are 848 False Negative (FN) : Observation is positive, but is predicted negative.\n",
    "\n",
    "sns.heatmap(confusion_matrix(y_test,prediction),annot=True, fmt=\"d\")"
   ]
  },
  {
   "cell_type": "markdown",
   "metadata": {
    "ExecuteTime": {
     "end_time": "2020-05-24T22:00:38.892606Z",
     "start_time": "2020-05-24T22:00:38.888366Z"
    }
   },
   "source": [
    "# Naive Bayes"
   ]
  },
  {
   "cell_type": "code",
   "execution_count": 23,
   "metadata": {
    "ExecuteTime": {
     "end_time": "2020-05-28T13:34:05.957483Z",
     "start_time": "2020-05-28T13:34:05.659391Z"
    },
    "scrolled": false
   },
   "outputs": [
    {
     "name": "stdout",
     "output_type": "stream",
     "text": [
      "Accuracy for rbf GaussianNB is  0.7851815017404277\n",
      "[[3477 1045]\n",
      " [ 251 1260]]\n",
      "              precision    recall  f1-score   support\n",
      "\n",
      "           0       0.93      0.77      0.84      4522\n",
      "           1       0.55      0.83      0.66      1511\n",
      "\n",
      "    accuracy                           0.79      6033\n",
      "   macro avg       0.74      0.80      0.75      6033\n",
      "weighted avg       0.84      0.79      0.80      6033\n",
      "\n"
     ]
    },
    {
     "data": {
      "text/plain": [
       "<matplotlib.axes._subplots.AxesSubplot at 0x7f0ca3c5ad10>"
      ]
     },
     "execution_count": 23,
     "metadata": {},
     "output_type": "execute_result"
    },
    {
     "data": {
      "image/png": "[encoded data removed]",
      "text/plain": [
       "<Figure size 576x396 with 2 Axes>"
      ]
     },
     "metadata": {},
     "output_type": "display_data"
    }
   ],
   "source": [
    "from sklearn.naive_bayes import GaussianNB\n",
    "\n",
    "naive_bayes = GaussianNB()\n",
    "naive_bayes.fit(X_train, y_train)\n",
    "prediction = naive_bayes.predict(X_test)\n",
    "\n",
    "print('Accuracy for rbf GaussianNB is ',metrics.accuracy_score(prediction,y_test))\n",
    "print(confusion_matrix(y_test,prediction))\n",
    "print(classification_report(y_test,prediction))\n",
    "\n",
    "#The result of this algorithm is shown using the confusion_matrix where we see that:\n",
    "#For the first class <=50K:\n",
    "#There are 3450 True Positive (TP) : Observation is positive, and is predicted to be positive.\n",
    "#There are 1045 False Negative (FN) : Observation is positive, but is predicted negative.\n",
    "#For the second class >50K:\n",
    "#There are 299 True Positive (TP) : Observation is positive, and is predicted to be positive.\n",
    "#There are 1239 False Negative (FN) : Observation is positive, but is predicted negative.\n",
    "\n",
    "sns.heatmap(confusion_matrix(y_test,prediction),annot=True, fmt=\"d\")"
   ]
  },
  {
   "cell_type": "markdown",
   "metadata": {},
   "source": [
    "# Logistic Regression"
   ]
  },
  {
   "cell_type": "code",
   "execution_count": 24,
   "metadata": {
    "ExecuteTime": {
     "end_time": "2020-05-28T13:34:06.476443Z",
     "start_time": "2020-05-28T13:34:05.961639Z"
    }
   },
   "outputs": [
    {
     "name": "stderr",
     "output_type": "stream",
     "text": [
      "/home/serena/anaconda3/lib/python3.7/site-packages/sklearn/linear_model/logistic.py:432: FutureWarning: Default solver will be changed to 'lbfgs' in 0.22. Specify a solver to silence this warning.\n",
      "  FutureWarning)\n"
     ]
    },
    {
     "name": "stdout",
     "output_type": "stream",
     "text": [
      "Accuracy of logistic regression classifier on test set: 0.85\n",
      "[[4206  316]\n",
      " [ 596  915]]\n",
      "              precision    recall  f1-score   support\n",
      "\n",
      "           0       0.88      0.93      0.90      4522\n",
      "           1       0.74      0.61      0.67      1511\n",
      "\n",
      "    accuracy                           0.85      6033\n",
      "   macro avg       0.81      0.77      0.78      6033\n",
      "weighted avg       0.84      0.85      0.84      6033\n",
      "\n"
     ]
    },
    {
     "data": {
      "text/plain": [
       "<matplotlib.axes._subplots.AxesSubplot at 0x7f0c84e892d0>"
      ]
     },
     "execution_count": 24,
     "metadata": {},
     "output_type": "execute_result"
    },
    {
     "data": {
      "image/png": "[encoded data removed]",
      "text/plain": [
       "<Figure size 576x396 with 2 Axes>"
      ]
     },
     "metadata": {},
     "output_type": "display_data"
    }
   ],
   "source": [
    "from sklearn.linear_model import LogisticRegression\n",
    "\n",
    "\n",
    "logreg = LogisticRegression()\n",
    "logreg.fit(X_train, y_train)\n",
    "prediction = logreg.predict(X_test)\n",
    "\n",
    "print('Accuracy of logistic regression classifier on test set: {:.2f}'.format(logreg.score(X_test, y_test)))\n",
    "\n",
    "print(confusion_matrix(y_test,prediction))\n",
    "print(classification_report(y_test,prediction))\n",
    "\n",
    "#The result of this algorithm is shown using the confusion_matrix where we see that:\n",
    "#For the first class <=50K:\n",
    "#There are 4202 True Positive (TP) : Observation is positive, and is predicted to be positive.\n",
    "#There are 335 False Negative (FN) : Observation is positive, but is predicted negative.\n",
    "#For the second class >50K:\n",
    "#There are 574 True Positive (TP) : Observation is positive, and is predicted to be positive.\n",
    "#There are 922 False Negative (FN) : Observation is positive, but is predicted negative.\n",
    "\n",
    "sns.heatmap(confusion_matrix(y_test,prediction),annot=True, fmt=\"d\")\n"
   ]
  },
  {
   "cell_type": "markdown",
   "metadata": {},
   "source": [
    "# Support Vector Machine"
   ]
  },
  {
   "cell_type": "code",
   "execution_count": 25,
   "metadata": {
    "ExecuteTime": {
     "end_time": "2020-05-28T13:34:06.482370Z",
     "start_time": "2020-05-28T13:34:06.478285Z"
    }
   },
   "outputs": [],
   "source": [
    "print(__doc__)\n",
    "\n",
    "import numpy as np\n",
    "import matplotlib.pyplot as plt\n",
    "from sklearn import svm\n",
    "from sklearn import preprocessing\n",
    "\n",
    "# import some data to play with\n",
    "\n",
    "data = X_train[['age','education-num','hours-per-week']].copy()\n",
    "# data\n",
    "data = data.values\n",
    "X = data[:, :2]  # we only take the first two features. We could\n",
    "                 # avoid this ugly slicing by using a two-dim dataset\n",
    "\n",
    "label_encoding = preprocessing.LabelEncoder()\n",
    "y_train = label_encoding.fit_transform(y_train)\n",
    "y = y_train\n",
    "\n",
    "h = .02  # step size in the mesh\n",
    "\n",
    "# we create an instance of SVM and fit out data. We do not scale our\n",
    "# data since we want to plot the support vectors\n",
    "C = 1.0  # SVM regularization parameter\n",
    "svc = svm.SVC(kernel='linear', C=C).fit(X, y)\n",
    "rbf_svc = svm.SVC(kernel='rbf', gamma=0.7, C=C).fit(X, y)\n",
    "poly_svc = svm.SVC(kernel='poly', degree=3, C=C).fit(X, y)\n",
    "lin_svc = svm.LinearSVC(C=C).fit(X, y)\n",
    "\n",
    "# create a mesh to plot in\n",
    "x_min, x_max = X[:, 0].min() - 1, X[:, 0].max() + 1\n",
    "y_min, y_max = X[:, 1].min() - 1, X[:, 1].max() + 1\n",
    "xx, yy = np.meshgrid(np.arange(x_min, x_max, h),\n",
    "                     np.arange(y_min, y_max, h))\n",
    "\n",
    "# title for the plots\n",
    "titles = ['SVC with linear kernel',\n",
    "          'LinearSVC (linear kernel)',\n",
    "          'SVC with RBF kernel',\n",
    "          'SVC with polynomial (degree 3) kernel']\n",
    "\n",
    "plt.figure(figsize=(12,5))\n",
    "for i, clf in enumerate((svc, lin_svc, rbf_svc, poly_svc)):\n",
    "    # Plot the decision boundary. For that, we will assign a color to each\n",
    "    # point in the mesh [x_min, x_max]x[y_min, y_max].\n",
    "    plt.subplot(2, 2, i + 1)\n",
    "    plt.subplots_adjust(wspace=0.4, hspace=0.4)\n",
    "\n",
    "    Z = clf.predict(np.c_[xx.ravel(), yy.ravel()])\n",
    "\n",
    "    # Put the result into a color plot\n",
    "    Z = Z.reshape(xx.shape)\n",
    "    plt.contourf(xx, yy, Z, cmap=plt.cm.coolwarm, alpha=0.8)\n",
    "\n",
    "    # Plot also the training points\n",
    "\n",
    "    plt.scatter(X[:, 0], X[:, 1], c=y, cmap=plt.cm.coolwarm)\n",
    "    plt.xlabel('Age')\n",
    "    plt.ylabel('Workclass_1')\n",
    "    plt.xlim(xx.min(), xx.max())\n",
    "    plt.ylim(yy.min(), yy.max())\n",
    "    plt.xticks(())\n",
    "    plt.yticks(())\n",
    "    plt.title(titles[i])\n",
    "\n",
    "plt.show()"
   ]
  },
  {
   "cell_type": "code",
   "execution_count": 35,
   "metadata": {
    "ExecuteTime": {
     "end_time": "2020-05-28T13:41:32.524073Z",
     "start_time": "2020-05-28T13:36:59.805548Z"
    }
   },
   "outputs": [
    {
     "name": "stdout",
     "output_type": "stream",
     "text": [
      "Accuracy for rbf SVM is  0.8703795789822643\n",
      "[[4206  316]\n",
      " [ 596  915]]\n",
      "              precision    recall  f1-score   support\n",
      "\n",
      "           0       0.88      0.93      0.90      4522\n",
      "           1       0.74      0.61      0.67      1511\n",
      "\n",
      "    accuracy                           0.85      6033\n",
      "   macro avg       0.81      0.77      0.78      6033\n",
      "weighted avg       0.84      0.85      0.84      6033\n",
      "\n"
     ]
    },
    {
     "data": {
      "text/plain": [
       "<matplotlib.axes._subplots.AxesSubplot at 0x7f0ca02f4690>"
      ]
     },
     "execution_count": 35,
     "metadata": {},
     "output_type": "execute_result"
    },
    {
     "data": {
      "image/png": "[encoded data removed]",
      "text/plain": [
       "<Figure size 576x396 with 2 Axes>"
      ]
     },
     "metadata": {},
     "output_type": "display_data"
    }
   ],
   "source": [
    "from sklearn import svm\n",
    "\n",
    "svm_rbf = svm.SVC(kernel='rbf',C=1,gamma=0.1, probability=True)\n",
    "svm_rbf.fit(X_train,y_train)\n",
    "prediction1 = svm_rbf.predict(X_test)\n",
    "print('Accuracy for rbf SVM is ',metrics.accuracy_score(prediction1,y_test))\n",
    "print(confusion_matrix(y_test,prediction))\n",
    "print(classification_report(y_test,prediction))\n",
    "\n",
    "#The result of this algorithm is shown using the confusion_matrix where we see that:\n",
    "#For the first class <=50K:\n",
    "#There are 4206 True Positive (TP) : Observation is positive, and is predicted to be positive.\n",
    "#There are 316 False Negative (FN) : Observation is positive, but is predicted negative.\n",
    "#For the second class >50K:\n",
    "#There are 268 True Positive (TP) : Observation is positive, and is predicted to be positive.\n",
    "#There are 1236 False Negative (FN) : Observation is positive, but is predicted negative.\n",
    "\n",
    "sns.heatmap(confusion_matrix(y_test,prediction),annot=True, fmt=\"d\")\n"
   ]
  },
  {
   "cell_type": "markdown",
   "metadata": {},
   "source": [
    "# Decission Tree"
   ]
  },
  {
   "cell_type": "code",
   "execution_count": 27,
   "metadata": {
    "ExecuteTime": {
     "end_time": "2020-05-28T13:34:07.031815Z",
     "start_time": "2020-05-28T13:34:06.503799Z"
    }
   },
   "outputs": [
    {
     "name": "stdout",
     "output_type": "stream",
     "text": [
      "The accuracy of the Decision Tree is 0.8087187137410907\n",
      "[[3927  595]\n",
      " [ 559  952]]\n",
      "              precision    recall  f1-score   support\n",
      "\n",
      "           0       0.88      0.87      0.87      4522\n",
      "           1       0.62      0.63      0.62      1511\n",
      "\n",
      "    accuracy                           0.81      6033\n",
      "   macro avg       0.75      0.75      0.75      6033\n",
      "weighted avg       0.81      0.81      0.81      6033\n",
      "\n"
     ]
    },
    {
     "data": {
      "text/plain": [
       "<matplotlib.axes._subplots.AxesSubplot at 0x7f0c84f802d0>"
      ]
     },
     "execution_count": 27,
     "metadata": {},
     "output_type": "execute_result"
    },
    {
     "data": {
      "image/png": "[encoded data removed]",
      "text/plain": [
       "<Figure size 576x396 with 2 Axes>"
      ]
     },
     "metadata": {},
     "output_type": "display_data"
    }
   ],
   "source": [
    "from sklearn.tree import DecisionTreeClassifier\n",
    "dec_tree=DecisionTreeClassifier()\n",
    "dec_tree.fit(X_train,y_train)\n",
    "prediction4=dec_tree.predict(X_test)\n",
    "print('The accuracy of the Decision Tree is', metrics.accuracy_score(prediction4,y_test))\n",
    "print(confusion_matrix(y_test,prediction4))\n",
    "print(classification_report(y_test,prediction4))\n",
    "\n",
    "#The result of this algorithm is shown using the confusion_matrix where we see that:\n",
    "#For the first class <=50K:\n",
    "#There are 3961 True Positive (TP) : Observation is positive, and is predicted to be positive.\n",
    "#There are 576 False Negative (FN) : Observation is positive, but is predicted negative.\n",
    "#For the second class >50K:\n",
    "#There are 548 True Positive (TP) : Observation is positive, and is predicted to be positive.\n",
    "#There are 948 False Negative (FN) : Observation is positive, but is predicted negative.\n",
    "\n",
    "sns.heatmap(confusion_matrix(y_test,prediction4),annot=True, fmt=\"d\")"
   ]
  },
  {
   "cell_type": "markdown",
   "metadata": {},
   "source": [
    "# XGBClassifier"
   ]
  },
  {
   "cell_type": "code",
   "execution_count": 28,
   "metadata": {
    "ExecuteTime": {
     "end_time": "2020-05-28T13:34:25.835670Z",
     "start_time": "2020-05-28T13:34:07.033771Z"
    }
   },
   "outputs": [
    {
     "name": "stdout",
     "output_type": "stream",
     "text": [
      "The accuracy of the XGBClassifier is 0.870213823968175\n",
      "[[4230  292]\n",
      " [ 491 1020]]\n",
      "              precision    recall  f1-score   support\n",
      "\n",
      "           0       0.90      0.94      0.92      4522\n",
      "           1       0.78      0.68      0.72      1511\n",
      "\n",
      "    accuracy                           0.87      6033\n",
      "   macro avg       0.84      0.81      0.82      6033\n",
      "weighted avg       0.87      0.87      0.87      6033\n",
      "\n"
     ]
    },
    {
     "data": {
      "text/plain": [
       "<matplotlib.axes._subplots.AxesSubplot at 0x7f0ca05e18d0>"
      ]
     },
     "execution_count": 28,
     "metadata": {},
     "output_type": "execute_result"
    },
    {
     "data": {
      "image/png": "[encoded data removed]",
      "text/plain": [
       "<Figure size 576x396 with 2 Axes>"
      ]
     },
     "metadata": {},
     "output_type": "display_data"
    }
   ],
   "source": [
    "import xgboost as xg\n",
    "from sklearn.model_selection import cross_val_score\n",
    "xgboost=xg.XGBClassifier(n_estimators=500,learning_rate=0.1)\n",
    "xgboost.fit(X_train,y_train)\n",
    "xgboost_prediction = xgboost.predict(X_test)\n",
    "print('The accuracy of the XGBClassifier is', metrics.accuracy_score(xgboost_prediction,y_test))\n",
    "print(confusion_matrix(y_test,xgboost_prediction))\n",
    "print(classification_report(y_test,xgboost_prediction))\n",
    "\n",
    "#The result of this algorithm is shown using the confusion_matrix where we see that:\n",
    "#For the first class <=50K:\n",
    "#There are 4282 True Positive (TP) : Observation is positive, and is predicted to be positive.\n",
    "#There are 255 False Negative (FN) : Observation is positive, but is predicted negative.\n",
    "#For the second class >50K:\n",
    "#There are 513 True Positive (TP) : Observation is positive, and is predicted to be positive.\n",
    "#There are 983 False Negative (FN) : Observation is positive, but is predicted negative.\n",
    "\n",
    "sns.heatmap(confusion_matrix(y_test,xgboost_prediction),annot=True, fmt=\"d\")"
   ]
  },
  {
   "cell_type": "markdown",
   "metadata": {},
   "source": [
    "# Receiver operating characteristic (ROC)"
   ]
  },
  {
   "cell_type": "code",
   "execution_count": 36,
   "metadata": {
    "ExecuteTime": {
     "end_time": "2020-05-28T13:42:37.326027Z",
     "start_time": "2020-05-28T13:42:30.456657Z"
    },
    "scrolled": false
   },
   "outputs": [
    {
     "name": "stdout",
     "output_type": "stream",
     "text": [
      "No Skill: ROC AUC=0.500\n",
      "Logistic: ROC AUC=0.903\n",
      "Naive Bayes: ROC AUC=0.889\n",
      "RandomForestClassifiers: ROC AUC=0.882\n",
      "SVM RBF: ROC AUC=0.903\n",
      "Decission Tree Classifier: ROC AUC=0.749\n",
      "XGBoost: ROC AUC=0.927\n"
     ]
    },
    {
     "data": {
      "image/png": "[encoded data removed]",
      "text/plain": [
       "<Figure size 1008x504 with 1 Axes>"
      ]
     },
     "metadata": {},
     "output_type": "display_data"
    }
   ],
   "source": [
    "from sklearn.metrics import roc_auc_score\n",
    "from sklearn.metrics import roc_curve\n",
    "from sklearn import preprocessing\n",
    "\n",
    "\n",
    "label_encoding = preprocessing.LabelEncoder()\n",
    "testdata = label_encoding.fit_transform(y_test)\n",
    "\n",
    "ns_probs = [0 for _ in range(len(testdata))]\n",
    "\n",
    "lr_probs = logreg.predict_proba(X_test)\n",
    "nb_probs = naive_bayes.predict_proba(X_test)\n",
    "rfc_probs = rfc.predict_proba(X_test)\n",
    "svm_probs = svm_rbf.predict_proba(X_test)\n",
    "dec_tree_probs = dec_tree.predict_proba(X_test)\n",
    "xgb_probs = xgboost.predict_proba(X_test)\n",
    "\n",
    "lr_probs = lr_probs[:, 1]\n",
    "nb_probs = nb_probs[:, 1]\n",
    "rfc_probs = rfc_probs[:, 1]\n",
    "svm_probs = svm_probs[:, 1]\n",
    "dec_tree_probs = dec_tree_probs[:, 1]\n",
    "xgb_probs = xgb_probs[:, 1]\n",
    "\n",
    "# calculate scores\n",
    "ns_auc = roc_auc_score(testdata, ns_probs)\n",
    "lr_auc = roc_auc_score(testdata, lr_probs)\n",
    "nb_auc = roc_auc_score(testdata, nb_probs)\n",
    "rfc_auc = roc_auc_score(testdata, rfc_probs)\n",
    "svm_rbf_auc = roc_auc_score(testdata, svm_probs)\n",
    "dec_tree_auc = roc_auc_score(testdata, dec_tree_probs)\n",
    "xgb_auc = roc_auc_score(testdata, xgb_probs)\n",
    "\n",
    "# summarize scores\n",
    "print('No Skill: ROC AUC=%.3f' % (ns_auc))\n",
    "print('Logistic: ROC AUC=%.3f' % (lr_auc))\n",
    "print('Naive Bayes: ROC AUC=%.3f' % (nb_auc))\n",
    "print('RandomForestClassifiers: ROC AUC=%.3f' % (rfc_auc))\n",
    "print('SVM RBF: ROC AUC=%.3f' % (svm_rbf_auc))\n",
    "print('Decission Tree Classifier: ROC AUC=%.3f' % (dec_tree_auc))\n",
    "print('XGBoost: ROC AUC=%.3f' % (xgb_auc))\n",
    "\n",
    "# calculate roc curves\n",
    "ns_fpr, ns_tpr, _ = roc_curve(testdata, ns_probs)\n",
    "lr_fpr, lr_tpr, _ = roc_curve(testdata, lr_probs)\n",
    "nb_fpr, nb_tpr, _ = roc_curve(testdata, nb_probs)\n",
    "rfc_fpr, rfc_tpr, _ = roc_curve(testdata, rfc_probs)\n",
    "svm_fpr, svm_tpr, _ = roc_curve(testdata, svm_probs)\n",
    "dec_tree_fpr, dec_tree_tpr, _ = roc_curve(testdata, dec_tree_probs)\n",
    "xgb_fpr, xgb_tpr, _ = roc_curve(testdata, xgb_probs)\n",
    "\n",
    "# plot the roc curve for the model\n",
    "plt.figure(figsize=(14,7))\n",
    "plt.plot(ns_fpr, ns_tpr, linestyle='--', label='No Skill')\n",
    "plt.plot(lr_fpr, lr_tpr, marker='.', label='Logistic')\n",
    "plt.plot(nb_fpr, nb_tpr, marker='+', label='Naive Bayes')\n",
    "plt.plot(rfc_fpr, rfc_tpr, marker='*', label='RandomForestClassifiers')\n",
    "plt.plot(rfc_fpr, rfc_tpr, marker='*', label='SVM RBF')\n",
    "plt.plot(dec_tree_fpr, dec_tree_tpr, marker='*', label='Decission Tree Classifier')\n",
    "plt.plot(xgb_fpr, xgb_tpr, marker='*', label='XGBoost')\n",
    "\n",
    "# axis labels\n",
    "plt.xlabel('False Positive Rate')\n",
    "plt.ylabel('True Positive Rate')\n",
    "# show the legend\n",
    "plt.legend()\n",
    "# show the plot\n",
    "plt.show()"
   ]
  },
  {
   "cell_type": "code",
   "execution_count": null,
   "metadata": {
    "ExecuteTime": {
     "end_time": "2020-05-28T13:34:26.146505Z",
     "start_time": "2020-05-28T13:31:51.689Z"
    }
   },
   "outputs": [],
   "source": [
    "\n",
    "# from sklearn import svm\n",
    "# from sklearn.model_selection import GridSearchCV\n",
    "# data = X_train[['age','education-num','hours-per-week']].copy()\n",
    "# # data\n",
    "# data = data.values\n",
    "# label_encoding = preprocessing.LabelEncoder()\n",
    "# y_train = label_encoding.fit_transform(y_train)\n",
    "# y = y_train\n",
    "\n",
    "# parameters = {'kernel':('linear', 'rbf'), 'C':[1, 10]}\n",
    "# svc = svm.SVC()\n",
    "# clf.fit(data, y)\n",
    "# GridSearchCV(estimator=svc,\n",
    "#              param_grid={'C': [1, 10], 'kernel': ('linear', 'rbf')})\n",
    "# sorted(clf.cv_results_.keys())\n",
    "# ['mean_fit_time', 'mean_score_time', 'mean_test_score',\n",
    "#  'param_C', 'param_kernel', 'params',\n",
    "#  'rank_test_score', 'split0_test_score',\n",
    "#  'split2_test_score',\n",
    "#  'std_fit_time', 'std_score_time', 'std_test_score']"
   ]
  },
  {
   "cell_type": "code",
   "execution_count": 37,
   "metadata": {
    "ExecuteTime": {
     "end_time": "2020-05-28T14:52:19.397882Z",
     "start_time": "2020-05-28T13:44:17.830356Z"
    }
   },
   "outputs": [
    {
     "name": "stderr",
     "output_type": "stream",
     "text": [
      "/home/serena/anaconda3/lib/python3.7/site-packages/sklearn/svm/base.py:193: FutureWarning: The default value of gamma will change from 'auto' to 'scale' in version 0.22 to account better for unscaled features. Set gamma explicitly to 'auto' or 'scale' to avoid this warning.\n",
      "  \"avoid this warning.\", FutureWarning)\n",
      "/home/serena/anaconda3/lib/python3.7/site-packages/sklearn/svm/base.py:193: FutureWarning: The default value of gamma will change from 'auto' to 'scale' in version 0.22 to account better for unscaled features. Set gamma explicitly to 'auto' or 'scale' to avoid this warning.\n",
      "  \"avoid this warning.\", FutureWarning)\n",
      "/home/serena/anaconda3/lib/python3.7/site-packages/sklearn/svm/base.py:193: FutureWarning: The default value of gamma will change from 'auto' to 'scale' in version 0.22 to account better for unscaled features. Set gamma explicitly to 'auto' or 'scale' to avoid this warning.\n",
      "  \"avoid this warning.\", FutureWarning)\n",
      "/home/serena/anaconda3/lib/python3.7/site-packages/sklearn/svm/base.py:193: FutureWarning: The default value of gamma will change from 'auto' to 'scale' in version 0.22 to account better for unscaled features. Set gamma explicitly to 'auto' or 'scale' to avoid this warning.\n",
      "  \"avoid this warning.\", FutureWarning)\n",
      "/home/serena/anaconda3/lib/python3.7/site-packages/sklearn/svm/base.py:193: FutureWarning: The default value of gamma will change from 'auto' to 'scale' in version 0.22 to account better for unscaled features. Set gamma explicitly to 'auto' or 'scale' to avoid this warning.\n",
      "  \"avoid this warning.\", FutureWarning)\n",
      "/home/serena/anaconda3/lib/python3.7/site-packages/sklearn/svm/base.py:193: FutureWarning: The default value of gamma will change from 'auto' to 'scale' in version 0.22 to account better for unscaled features. Set gamma explicitly to 'auto' or 'scale' to avoid this warning.\n",
      "  \"avoid this warning.\", FutureWarning)\n",
      "/home/serena/anaconda3/lib/python3.7/site-packages/sklearn/svm/base.py:193: FutureWarning: The default value of gamma will change from 'auto' to 'scale' in version 0.22 to account better for unscaled features. Set gamma explicitly to 'auto' or 'scale' to avoid this warning.\n",
      "  \"avoid this warning.\", FutureWarning)\n",
      "/home/serena/anaconda3/lib/python3.7/site-packages/sklearn/svm/base.py:193: FutureWarning: The default value of gamma will change from 'auto' to 'scale' in version 0.22 to account better for unscaled features. Set gamma explicitly to 'auto' or 'scale' to avoid this warning.\n",
      "  \"avoid this warning.\", FutureWarning)\n",
      "/home/serena/anaconda3/lib/python3.7/site-packages/sklearn/svm/base.py:193: FutureWarning: The default value of gamma will change from 'auto' to 'scale' in version 0.22 to account better for unscaled features. Set gamma explicitly to 'auto' or 'scale' to avoid this warning.\n",
      "  \"avoid this warning.\", FutureWarning)\n",
      "/home/serena/anaconda3/lib/python3.7/site-packages/sklearn/svm/base.py:193: FutureWarning: The default value of gamma will change from 'auto' to 'scale' in version 0.22 to account better for unscaled features. Set gamma explicitly to 'auto' or 'scale' to avoid this warning.\n",
      "  \"avoid this warning.\", FutureWarning)\n",
      "/home/serena/anaconda3/lib/python3.7/site-packages/sklearn/linear_model/logistic.py:432: FutureWarning: Default solver will be changed to 'lbfgs' in 0.22. Specify a solver to silence this warning.\n",
      "  FutureWarning)\n",
      "/home/serena/anaconda3/lib/python3.7/site-packages/sklearn/linear_model/logistic.py:432: FutureWarning: Default solver will be changed to 'lbfgs' in 0.22. Specify a solver to silence this warning.\n",
      "  FutureWarning)\n",
      "/home/serena/anaconda3/lib/python3.7/site-packages/sklearn/linear_model/logistic.py:432: FutureWarning: Default solver will be changed to 'lbfgs' in 0.22. Specify a solver to silence this warning.\n",
      "  FutureWarning)\n",
      "/home/serena/anaconda3/lib/python3.7/site-packages/sklearn/linear_model/logistic.py:432: FutureWarning: Default solver will be changed to 'lbfgs' in 0.22. Specify a solver to silence this warning.\n",
      "  FutureWarning)\n",
      "/home/serena/anaconda3/lib/python3.7/site-packages/sklearn/linear_model/logistic.py:432: FutureWarning: Default solver will be changed to 'lbfgs' in 0.22. Specify a solver to silence this warning.\n",
      "  FutureWarning)\n",
      "/home/serena/anaconda3/lib/python3.7/site-packages/sklearn/linear_model/logistic.py:432: FutureWarning: Default solver will be changed to 'lbfgs' in 0.22. Specify a solver to silence this warning.\n",
      "  FutureWarning)\n",
      "/home/serena/anaconda3/lib/python3.7/site-packages/sklearn/linear_model/logistic.py:432: FutureWarning: Default solver will be changed to 'lbfgs' in 0.22. Specify a solver to silence this warning.\n",
      "  FutureWarning)\n",
      "/home/serena/anaconda3/lib/python3.7/site-packages/sklearn/linear_model/logistic.py:432: FutureWarning: Default solver will be changed to 'lbfgs' in 0.22. Specify a solver to silence this warning.\n",
      "  FutureWarning)\n",
      "/home/serena/anaconda3/lib/python3.7/site-packages/sklearn/linear_model/logistic.py:432: FutureWarning: Default solver will be changed to 'lbfgs' in 0.22. Specify a solver to silence this warning.\n",
      "  FutureWarning)\n",
      "/home/serena/anaconda3/lib/python3.7/site-packages/sklearn/linear_model/logistic.py:432: FutureWarning: Default solver will be changed to 'lbfgs' in 0.22. Specify a solver to silence this warning.\n",
      "  FutureWarning)\n"
     ]
    },
    {
     "data": {
      "text/html": [
       "<div>\n",
       "<style scoped>\n",
       "    .dataframe tbody tr th:only-of-type {\n",
       "        vertical-align: middle;\n",
       "    }\n",
       "\n",
       "    .dataframe tbody tr th {\n",
       "        vertical-align: top;\n",
       "    }\n",
       "\n",
       "    .dataframe thead th {\n",
       "        text-align: right;\n",
       "    }\n",
       "</style>\n",
       "<table border=\"1\" class=\"dataframe\">\n",
       "  <thead>\n",
       "    <tr style=\"text-align: right;\">\n",
       "      <th></th>\n",
       "      <th>CV Mean</th>\n",
       "      <th>Std</th>\n",
       "    </tr>\n",
       "  </thead>\n",
       "  <tbody>\n",
       "    <tr>\n",
       "      <th>Radial Svm</th>\n",
       "      <td>0.748160</td>\n",
       "      <td>0.006512</td>\n",
       "    </tr>\n",
       "    <tr>\n",
       "      <th>Logistic Regression</th>\n",
       "      <td>0.790498</td>\n",
       "      <td>0.006405</td>\n",
       "    </tr>\n",
       "    <tr>\n",
       "      <th>XGBClassifier</th>\n",
       "      <td>0.867549</td>\n",
       "      <td>0.004867</td>\n",
       "    </tr>\n",
       "    <tr>\n",
       "      <th>Decision Tree</th>\n",
       "      <td>0.810921</td>\n",
       "      <td>0.005196</td>\n",
       "    </tr>\n",
       "    <tr>\n",
       "      <th>Naive Bayes</th>\n",
       "      <td>0.788575</td>\n",
       "      <td>0.006098</td>\n",
       "    </tr>\n",
       "    <tr>\n",
       "      <th>Random Forest</th>\n",
       "      <td>0.852696</td>\n",
       "      <td>0.006092</td>\n",
       "    </tr>\n",
       "  </tbody>\n",
       "</table>\n",
       "</div>"
      ],
      "text/plain": [
       "                      CV Mean       Std\n",
       "Radial Svm           0.748160  0.006512\n",
       "Logistic Regression  0.790498  0.006405\n",
       "XGBClassifier        0.867549  0.004867\n",
       "Decision Tree        0.810921  0.005196\n",
       "Naive Bayes          0.788575  0.006098\n",
       "Random Forest        0.852696  0.006092"
      ]
     },
     "execution_count": 37,
     "metadata": {},
     "output_type": "execute_result"
    }
   ],
   "source": [
    "from sklearn.model_selection import KFold #for K-fold cross validation\n",
    "from sklearn.model_selection import cross_val_score #score evaluation\n",
    "from sklearn.model_selection import cross_val_predict #prediction\n",
    "kfold = KFold(n_splits=10, random_state=22) # k=10, split the data into 10 equal parts\n",
    "xyz=[]\n",
    "accuracy=[]\n",
    "std=[]\n",
    "classifiers=['Radial Svm','Logistic Regression','XGBClassifier','Decision Tree','Naive Bayes','Random Forest']\n",
    "models=[svm.SVC(kernel='rbf'),LogisticRegression(),xg.XGBClassifier(n_estimators=500,learning_rate=0.1),DecisionTreeClassifier(),GaussianNB(),RandomForestClassifier(n_estimators=100)]\n",
    "for i in models:\n",
    "    model = i\n",
    "    cv_result = cross_val_score(model,X,y, cv = kfold,scoring = \"accuracy\")\n",
    "    cv_result=cv_result\n",
    "    xyz.append(cv_result.mean())\n",
    "    std.append(cv_result.std())\n",
    "    accuracy.append(cv_result)\n",
    "new_models_dataframe2=pd.DataFrame({'CV Mean':xyz,'Std':std},index=classifiers)       \n",
    "new_models_dataframe2"
   ]
  },
  {
   "cell_type": "code",
   "execution_count": 38,
   "metadata": {
    "ExecuteTime": {
     "end_time": "2020-05-28T14:56:32.668000Z",
     "start_time": "2020-05-28T14:56:32.369556Z"
    }
   },
   "outputs": [
    {
     "data": {
      "text/plain": [
       "<matplotlib.axes._subplots.AxesSubplot at 0x7f0ca02288d0>"
      ]
     },
     "execution_count": 38,
     "metadata": {},
     "output_type": "execute_result"
    },
    {
     "data": {
      "image/png": "[encoded data removed]",
      "text/plain": [
       "<Figure size 576x396 with 2 Axes>"
      ]
     },
     "metadata": {},
     "output_type": "display_data"
    }
   ],
   "source": [
    "sns.heatmap(new_models_dataframe2, annot=True, cmap='Reds')"
   ]
  },
  {
   "cell_type": "code",
   "execution_count": 34,
   "metadata": {
    "ExecuteTime": {
     "end_time": "2020-05-28T13:36:31.637102Z",
     "start_time": "2020-05-28T13:36:31.632589Z"
    }
   },
   "outputs": [
    {
     "name": "stdout",
     "output_type": "stream",
     "text": [
      "(24129, 88)\n",
      "(6033, 88)\n",
      "(30162, 89)\n"
     ]
    }
   ],
   "source": [
    "print(X_train.shape)\n",
    "print(X_test.shape)\n",
    "print(dataframe.shape)"
   ]
  }
 ],
 "metadata": {
  "kernelspec": {
   "display_name": "Python 3",
   "language": "python",
   "name": "python3"
  },
  "language_info": {
   "codemirror_mode": {
    "name": "ipython",
    "version": 3
   },
   "file_extension": ".py",
   "mimetype": "text/x-python",
   "name": "python",
   "nbconvert_exporter": "python",
   "pygments_lexer": "ipython3",
   "version": "3.7.4"
  },
  "toc": {
   "base_numbering": 1,
   "nav_menu": {},
   "number_sections": true,
   "sideBar": true,
   "skip_h1_title": false,
   "title_cell": "Table of Contents",
   "title_sidebar": "Contents",
   "toc_cell": false,
   "toc_position": {},
   "toc_section_display": true,
   "toc_window_display": false
  },
  "varInspector": {
   "cols": {
    "lenName": 16,
    "lenType": 16,
    "lenVar": 40
   },
   "kernels_config": {
    "python": {
     "delete_cmd_postfix": "",
     "delete_cmd_prefix": "del ",
     "library": "var_list.py",
     "varRefreshCmd": "print(var_dic_list())"
    },
    "r": {
     "delete_cmd_postfix": ") ",
     "delete_cmd_prefix": "rm(",
     "library": "var_list.r",
     "varRefreshCmd": "cat(var_dic_list()) "
    }
   },
   "types_to_exclude": [
    "module",
    "function",
    "builtin_function_or_method",
    "instance",
    "_Feature"
   ],
   "window_display": false
  }
 },
 "nbformat": 4,
 "nbformat_minor": 2
}
